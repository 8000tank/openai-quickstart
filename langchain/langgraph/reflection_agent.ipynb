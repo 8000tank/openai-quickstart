{
 "cells": [
  {
   "cell_type": "markdown",
   "id": "26e64d1c",
   "metadata": {},
   "source": [
    "\n",
    "# LangGraph Reflection 机制开发指南\n",
    "\n",
    "本指南详细介绍了如何在 **LangGraph** 中构建基于大语言模型（LLM）的 **Reflection（反思）** 机制。\n",
    "\n",
    "Reflection 是一种重要的模型能力，通过让模型观察其过去的步骤和外部环境反馈，评估自身行为的质量，并不断改进输出。在生成与反思的循环中，模型可以逐步优化内容，从而提升生成质量和用户满意度。\n",
    "\n",
    "Reflection 机制被广泛应用于生成任务中，例如文章写作、内容修改与反馈、以及智能助理等场景。通过引导 LLM 进行自我反思和用户反馈处理，开发者可以让模型在多轮交互中自动调整其生成的内容，达到高效、精准、结构完善的输出。\n",
    "\n",
    "\n",
    "\n",
    "在本指南中，我们会逐步演示如何搭建这一机制，包括从基础的环境配置到生成器和反思器的构建，再到如何使用 LangGraph 状态图实现生成-反思循环的完整流程。无论您是为文章生成、内容评估，还是其他复杂任务设计 LLM 代理，本指南都将为您提供详细的开发思路和实用的代码示例。\n",
    "\n",
    "![reflection](./images/reflection.png)\n",
    "\n",
    "通过本指南，您将学习如何：\n",
    "1. 设置开发环境并安装所需包；\n",
    "2. 定义和生成灵活结构的文章，不局限于传统的五段式；\n",
    "3. 通过反思机制批改生成内容，并提供详细反馈；\n",
    "4. 构建反思与生成的状态循环，使模型持续改进生成内容。\n",
    "\n",
    "本开发指南适合任何希望构建复杂 LLM 任务的开发者，特别是需要实现生成-反思流程、文章批改反馈、或其他高级交互任务的场景。\n"
   ]
  },
  {
   "cell_type": "markdown",
   "id": "28e06a35-b8fb-4475-ac56-eef76a78e3b2",
   "metadata": {},
   "source": [
    "## 1. 环境设置\n",
    "首先，安装所需的包并设置API密钥："
   ]
  },
  {
   "cell_type": "code",
   "execution_count": 3,
   "id": "7d045265-8b0b-42e7-9bec-9e18e62a8f0f",
   "metadata": {},
   "outputs": [],
   "source": [
    "%%capture --no-stderr\n",
    "%pip install langchain langgraph langchain-ollama tavily-python"
   ]
  },
  {
   "cell_type": "code",
   "execution_count": 1,
   "id": "c166149b",
   "metadata": {},
   "outputs": [],
   "source": [
    "import getpass\n",
    "import os\n",
    "\n",
    "# 定义一个帮助函数来检查环境变量，如果不存在则提示用户输入\n",
    "def _set_if_undefined(var: str):\n",
    "    if not os.environ.get(var):\n",
    "        os.environ[var] = getpass.getpass(f\"请输入您的 {var}\")\n",
    "\n",
    "# 设置 OpenAI 和 Langchain API 密钥\n",
    "# _set_if_undefined(\"OPENAI_API_KEY\")\n",
    "# _set_if_undefined(\"LANGCHAIN_API_KEY\")\n",
    "# _set_if_undefined(\"TAVILY_API_KEY\")\n"
   ]
  },
  {
   "cell_type": "markdown",
   "id": "6cec8159-c202-4274-b4cb-eddfa337940a",
   "metadata": {},
   "source": [
    "## 2. LangSmith开发配置\n",
    "LangSmith能够帮助您快速发现问题并提高LangGraph项目的性能。通过LangSmith，您可以使用跟踪数据来调试、测试和监控基于LangGraph构建的LLM应用程序。"
   ]
  },
  {
   "cell_type": "code",
   "execution_count": 2,
   "id": "c231a35a-8f08-44d1-abda-5d0defd00dbc",
   "metadata": {},
   "outputs": [],
   "source": [
    "# 在 LangSmith 中添加追踪功能\n",
    "os.environ[\"LANGCHAIN_TRACING_V2\"] = \"true\"\n",
    "os.environ[\"LANGCHAIN_PROJECT\"] = \"Reflection4\""
   ]
  },
  {
   "cell_type": "markdown",
   "id": "5c75943d-3e39-4765-811a-2c9a47cf3722",
   "metadata": {},
   "source": [
    "## 3. 定义写作助手智能体\n",
    "\n",
    "我们定义的这个助手是一个写作助手，旨在为用户生成高质量、结构清晰且引人入胜的文章。它的任务是根据用户的请求撰写内容，无论是短文、长篇、议论文还是其他类型的文章，都能够灵活应对。助手会专注于文章的清晰度、结构和质量，确保输出的内容是精心打磨过的。如果用户对生成的内容有反馈或建议，助手还能够根据这些反馈改进和优化文章，使其更符合用户的期望。这种互动机制保证了写作过程的灵活性和个性化，从而让用户获得更符合需求的成品。\n",
    "\n",
    "\n",
    "### System Prompt 详细解释：\n",
    "1. **\"You are a writing assistant\"**：写作助手的角色设定，让模型明确其任务是帮助用户进行写作。\n",
    "   \n",
    "2. **\"well-crafted, coherent, and engaging articles\"**：描述了文章应该具备的特性，包括“精心撰写的、连贯的和吸引人的”，但没有限制文章的具体结构，可以是不同类型的文章（如叙述文、议论文等）。\n",
    "\n",
    "3. **\"Focus on clarity, structure, and quality\"**：明确了撰写时需要关注的核心要素：清晰度、结构性和质量，确保输出内容优秀。\n",
    "\n",
    "4. **\"revise and improve the writing\"**：模型可以根据用户的反馈进行修改和优化，保持互动的灵活性。\n"
   ]
  },
  {
   "cell_type": "code",
   "execution_count": 3,
   "id": "1905a06e-af05-4691-a6ed-014be2cfaf06",
   "metadata": {},
   "outputs": [],
   "source": [
    "from langchain_core.messages import AIMessage, HumanMessage\n",
    "from langchain_core.prompts import ChatPromptTemplate, MessagesPlaceholder\n",
    "# from langchain_openai import ChatOpenAI\n",
    "from langchain_ollama.chat_models import ChatOllama\n",
    "\n",
    "writer_prompt = ChatPromptTemplate.from_messages(\n",
    "    [\n",
    "        (\n",
    "            \"system\",\n",
    "            \"You are a writing assistant tasked with creating well-crafted, coherent, and engaging articles based on the user's request.\"\n",
    "            \" Focus on clarity, structure, and quality to produce the best possible piece of writing.\"\n",
    "            \" If the user provides feedback or suggestions, revise and improve the writing to better align with their expectations.\",\n",
    "        ),\n",
    "        MessagesPlaceholder(variable_name=\"messages\"),\n",
    "    ]\n",
    ")\n",
    "\n",
    "# llm = ChatOpenAI(model=\"gpt-4o-mini\")"
   ]
  },
  {
   "cell_type": "code",
   "execution_count": 4,
   "id": "2f0cec14-582a-4094-9a5b-9a0a2ae04a32",
   "metadata": {},
   "outputs": [],
   "source": [
    "writer = writer_prompt | ChatOllama(\n",
    "    model=\"llama3.1:8b-instruct-q8_0\",\n",
    "    max_tokens=8192,\n",
    "    temperature=1.2,\n",
    ")"
   ]
  },
  {
   "cell_type": "code",
   "execution_count": 7,
   "id": "a374db97-f61e-44d0-9fb7-8be1d3368a04",
   "metadata": {},
   "outputs": [
    {
     "name": "stdout",
     "output_type": "stream",
     "text": [
      "我选择了《西游记》第一百零八回「凤祥馆内三人大鬧」这一篇章作为改写对象。水浒传的风格以豪放、粗犷、奔放著称，因此本篇将尝试融入该风格的元素，重现西游记中生动活泼的情节。\n",
      "\n",
      "**凤祥馆内三人大鬧**\n",
      "\n",
      "天长日久，唐僧师徒四人行程千里，不得不稍作休息。于是在一座名叫凤祥馆的小镇便寄住了三宿。可不想这凤祥馆是出家之人的隐居地，也就是说，那里的姑娘们多为俗家子弟。唐僧师徒四人都已长得威风非凡，惹得些没事儿的女眷觊觎。\n",
      "\n",
      "开天辟地间，哪个仙人不曾到此走过呢？这凤祥馆可算当今出家界中的隐居之所啊！谁知唐僧师徒四个老头却不是平常之人，倒有两个老贱货眼巴巴地瞟着几个人似的。唐僧师傅见了就大吃一惊道：“天哪，你们这是怎么回事儿呢？我不信世上还有这么坏的鸟人！”那三个女孩没想到唐僧师傅居然说得如此难听，将脑袋都低得不能看了。\n",
      "\n",
      "这几个老贱货可真会来事儿，他们想把三个女子带走做干娘。可是当他们见到两个老头一身金甲铁铠时就都吓得六神无主跑路逃命去了。这才发现原来是凤祥馆的主人唐僧师傅等人！众多姑娘们见到四人赶了回来。\n",
      "\n",
      "这天夜里，凤祥馆的小子几个都出门来寻乐。想不到这一去没走多远就遇上一个老道士，一口气喝下半瓶白酒就昏倒在地。这可真是个奇事！于是，小贱货们便把他扛到凤祥馆里，告诉唐僧师傅说他们的好朋友在等着。待这位老道士醒过来时，他见了四个仙人就吓得脸色煞白。\n",
      "\n",
      "唐僧师傅赶紧劝慰：“咦，怎么回事儿呢？你也不用害怕。”又告诉他说：“我这几位朋友虽然看起来很不像话，但他们可都是正经的好东西。我们就是西天取经，正要往来。”老道士听后觉得唐僧师傅的话言之有理，便答应带路帮助四人找到凤花子。\n",
      "\n",
      "这一日清早，老道士领着唐僧师徒四人前去寻找。只见他们三步一抬二步一落地走得快极了，这个地方好似隔离了千年，空气浓厚清新，看得出来这里可是仙山。几路路行来到凤花子的住处，一声巨响把小院子震塌了几颗砖块……"
     ]
    }
   ],
   "source": [
    "article = \"\"\n",
    "\n",
    "topic = HumanMessage(\n",
    "    content=\"参考水浒传的风格，改写吴承恩的西游记中任意篇章，不要超过500字\"\n",
    ")\n",
    "\n",
    "for chunk in writer.stream({\"messages\": [topic]}):\n",
    "    print(chunk.content, end=\"\")\n",
    "    article += chunk.content"
   ]
  },
  {
   "cell_type": "code",
   "execution_count": 8,
   "id": "576b8163-56b5-4b49-9dd3-aaf14f1566db",
   "metadata": {},
   "outputs": [
    {
     "data": {
      "text/markdown": [
       "我选择了《西游记》第一百零八回「凤祥馆内三人大鬧」这一篇章作为改写对象。水浒传的风格以豪放、粗犷、奔放著称，因此本篇将尝试融入该风格的元素，重现西游记中生动活泼的情节。\n",
       "\n",
       "**凤祥馆内三人大鬧**\n",
       "\n",
       "天长日久，唐僧师徒四人行程千里，不得不稍作休息。于是在一座名叫凤祥馆的小镇便寄住了三宿。可不想这凤祥馆是出家之人的隐居地，也就是说，那里的姑娘们多为俗家子弟。唐僧师徒四人都已长得威风非凡，惹得些没事儿的女眷觊觎。\n",
       "\n",
       "开天辟地间，哪个仙人不曾到此走过呢？这凤祥馆可算当今出家界中的隐居之所啊！谁知唐僧师徒四个老头却不是平常之人，倒有两个老贱货眼巴巴地瞟着几个人似的。唐僧师傅见了就大吃一惊道：“天哪，你们这是怎么回事儿呢？我不信世上还有这么坏的鸟人！”那三个女孩没想到唐僧师傅居然说得如此难听，将脑袋都低得不能看了。\n",
       "\n",
       "这几个老贱货可真会来事儿，他们想把三个女子带走做干娘。可是当他们见到两个老头一身金甲铁铠时就都吓得六神无主跑路逃命去了。这才发现原来是凤祥馆的主人唐僧师傅等人！众多姑娘们见到四人赶了回来。\n",
       "\n",
       "这天夜里，凤祥馆的小子几个都出门来寻乐。想不到这一去没走多远就遇上一个老道士，一口气喝下半瓶白酒就昏倒在地。这可真是个奇事！于是，小贱货们便把他扛到凤祥馆里，告诉唐僧师傅说他们的好朋友在等着。待这位老道士醒过来时，他见了四个仙人就吓得脸色煞白。\n",
       "\n",
       "唐僧师傅赶紧劝慰：“咦，怎么回事儿呢？你也不用害怕。”又告诉他说：“我这几位朋友虽然看起来很不像话，但他们可都是正经的好东西。我们就是西天取经，正要往来。”老道士听后觉得唐僧师傅的话言之有理，便答应带路帮助四人找到凤花子。\n",
       "\n",
       "这一日清早，老道士领着唐僧师徒四人前去寻找。只见他们三步一抬二步一落地走得快极了，这个地方好似隔离了千年，空气浓厚清新，看得出来这里可是仙山。几路路行来到凤花子的住处，一声巨响把小院子震塌了几颗砖块……"
      ],
      "text/plain": [
       "<IPython.core.display.Markdown object>"
      ]
     },
     "metadata": {},
     "output_type": "display_data"
    }
   ],
   "source": [
    "from IPython.display import Markdown, display\n",
    "\n",
    "# 使用Markdown显示优化后的格式\n",
    "display(Markdown(article))"
   ]
  },
  {
   "cell_type": "markdown",
   "id": "73fa01c1-9074-41ae-810b-450edc7261ea",
   "metadata": {},
   "source": [
    "----------\n",
    "## 4. 定义审阅老师智能体\n",
    "\n",
    "下面我们使用反思机制批改生成的作文，生成一篇作文的反馈和建议。\n",
    "\n",
    "模型扮演“老师”角色，针对用户提交的作文进行打分、批改和提供改进建议。\n",
    "\n",
    "### System Prompt 详细解释：\n",
    "\n",
    "- **\"You are a teacher grading an essay submission.\"**\n",
    "  - 模型被设定为一个老师角色，专门负责为用户提交的作文进行批改。这一角色定位帮助模型理解其任务是提供具有建设性的反馈和评价。\n",
    "  \n",
    "- **\"Generate critique and recommendations for the user's submission.\"**\n",
    "  - 模型需要生成作文的批评与建议。它不只是评估作文的好坏，还需要指出需要改进的地方，并提出具体的建议。\n",
    "\n",
    "- **\"Provide detailed recommendations, including requests for length, depth, style, etc.\"**\n",
    "  - 这一部分进一步明确了反馈的细节，要求模型给出细致的建议。这包括：\n",
    "    - **Length（长度）**：文章的字数是否合适，是否需要扩展或删减。\n",
    "    - **Depth（深度）**：是否需要更深入的分析或讨论。\n",
    "    - **Style（风格）**：文章的写作风格是否合适，是否符合目标读者或主题的需求。\n",
    "  \n",
    "这一设定确保了模型不仅给出基本反馈，还可以根据文章的具体问题提出具体的改进意见，帮助用户更好地提升其写作。"
   ]
  },
  {
   "cell_type": "code",
   "execution_count": 9,
   "id": "7001a65a-88ca-4ab7-bc66-fa1df870f99e",
   "metadata": {},
   "outputs": [],
   "source": [
    "reflection_prompt = ChatPromptTemplate.from_messages(\n",
    "    [\n",
    "        (\n",
    "            \"system\",\n",
    "            \"You are a teacher grading an article submission, write critique and recommendations for the user's submission.\"\n",
    "            \" Provide detailed recommendations, including requests for length, depth, style, etc.\",\n",
    "\n",
    "        ),\n",
    "        MessagesPlaceholder(variable_name=\"messages\"),\n",
    "    ]\n",
    ")\n",
    "\n",
    "# for homework\n",
    "reflection_prompt = ChatPromptTemplate.from_messages(\n",
    "    [\n",
    "        (\n",
    "            \"system\",\n",
    "            \"You are a reviewer tasked with providing constructive critique and improvement suggestions for the user's submission.\"\n",
    "            \" Offer detailed feedback, including recommendations on clarity, structure, content depth, and style, as well as areas for improvement.\",\n",
    "        ),\n",
    "        MessagesPlaceholder(variable_name=\"messages\"),\n",
    "    ]\n",
    ")\n",
    "\n",
    "reflect = reflection_prompt | ChatOllama(\n",
    "    model=\"llama3.1:8b-instruct-q8_0\",\n",
    "    max_tokens=8192,\n",
    "    temperature=0.2,\n",
    ")"
   ]
  },
  {
   "cell_type": "code",
   "execution_count": 10,
   "id": "ef0c878a-f333-4fb6-b879-e7636d1087ae",
   "metadata": {},
   "outputs": [
    {
     "name": "stdout",
     "output_type": "stream",
     "text": [
      "**改写意见**\n",
      "\n",
      "你的改写努力尝试融入水滸传的风格，但仍有许多地方需要进一步完善。以下是具体的建议：\n",
      "\n",
      "1.  **语言风格**: 水滸传以豪放、粗犷、奔放著称，你的改写中虽然尝试采用这种风格，但仍然有些过于平淡。请考虑使用更多的俚语、谚语和口头表达方式来增强文章的生动性。\n",
      "2.  **结构**: 水滸传的篇章通常以一个故事或事件为中心，展开一系列的场景和对话。你可以尝试将《西游记》第一百零八回「凤祥馆内三人大鬧」这一篇章按照这种结构来改写。\n",
      "3.  **人物刻画**: 水滸传中的人物都有鲜明的个性，你可以尝试在改写中给唐僧师徒四人和其他角色赋予更强烈的个性和特点。例如，唐僧师傅可以表现出更加豪放的性格，而孙悟空则可以展现出他的机智和勇敢。\n",
      "4.  **情节发展**: 水滸传中的故事通常有一个明确的起承转合结构，你可以尝试在改写中将《西游记》第一百零八回「凤祥馆内三人大鬧」这一篇章按照这种结构来展开。例如，唐僧师徒四人到达凤祥馆后，可以遇到一些阻碍和挑战，然后通过他们的智慧和勇敢来克服这些困难。\n",
      "5.  **内容深度**: 水滸传中的人物和事件都有深刻的内涵，你可以尝试在改写中给《西游记》第一百零八回「凤祥馆内三人大鬧」这一篇章增加更多的内容深度。例如，唐僧师徒四人的经历可以代表他们对真理和正义的追求，而凤花子的故事可以象征着善良和纯真的力量。\n",
      "\n",
      "**具体改写建议**\n",
      "\n",
      "1.  **开头**: 你可以尝试用更加生动的语言来描述唐僧师徒四人到达凤祥馆的情景。例如：“天长日久，唐僧师徒四人行程千里，如同一支旭日般照亮了遥远的天空，不得不稍作休息。在这座名叫凤祥馆的小镇，他们便寄住了三宿。”\n",
      "2.  **人物刻画**: 你可以尝试在改写中给唐僧师徒四人和其他角色赋予更强烈的个性和特点。例如：“唐僧师傅见到两个老头一身金甲铁铠时，脸上闪过了一丝惊讶，但随即恢复了平静的神色。他说：‘天哪，你们这是怎么回事儿呢？我不信世上还有这么坏的鸟人！’”\n",
      "3.  **情节发展**: 你可以尝试在改写中将《西游记》第一百零八回「凤祥馆内三人大鬧」这一篇章按照一个明确的起承转合结构来展开。例如：“这天夜里，凤祥馆的小子几个都出门来寻乐。想不到这一去没走多远就遇上一个老道士，一口气喝下半瓶白酒就昏倒在地。这可真是个奇事！于是，小贱货们便把他扛到凤祥馆里，告诉唐僧师傅说他们的好朋友在等着。”\n",
      "4.  **内容深度**: 你可以尝试在改写中给《西游记》第一百零八回「凤祥馆内三人大鬧」这一篇章增加更多的内容深度。例如：“这几个老贱货可真会来事儿，他们想把三个女子带走做干娘。但是，当他们见到两个老头一身金甲铁铠时，就都吓得六神无主跑路逃命去了。这才发现原来是凤祥馆的主人唐僧师傅等人！众多姑娘们见到四人赶了回来。”"
     ]
    }
   ],
   "source": [
    "reflection = \"\"\n",
    "\n",
    "# 将主题（topic）和生成的文章（article）作为输入发送给反思智能体\n",
    "for chunk in reflect.stream({\"messages\": [topic, HumanMessage(content=article)]}):\n",
    "    print(chunk.content, end=\"\")\n",
    "    reflection += chunk.content"
   ]
  },
  {
   "cell_type": "code",
   "execution_count": 11,
   "id": "3c616014-c9c9-4d46-be9f-87485ee750eb",
   "metadata": {},
   "outputs": [
    {
     "data": {
      "text/markdown": [
       "**改写意见**\n",
       "\n",
       "你的改写努力尝试融入水滸传的风格，但仍有许多地方需要进一步完善。以下是具体的建议：\n",
       "\n",
       "1.  **语言风格**: 水滸传以豪放、粗犷、奔放著称，你的改写中虽然尝试采用这种风格，但仍然有些过于平淡。请考虑使用更多的俚语、谚语和口头表达方式来增强文章的生动性。\n",
       "2.  **结构**: 水滸传的篇章通常以一个故事或事件为中心，展开一系列的场景和对话。你可以尝试将《西游记》第一百零八回「凤祥馆内三人大鬧」这一篇章按照这种结构来改写。\n",
       "3.  **人物刻画**: 水滸传中的人物都有鲜明的个性，你可以尝试在改写中给唐僧师徒四人和其他角色赋予更强烈的个性和特点。例如，唐僧师傅可以表现出更加豪放的性格，而孙悟空则可以展现出他的机智和勇敢。\n",
       "4.  **情节发展**: 水滸传中的故事通常有一个明确的起承转合结构，你可以尝试在改写中将《西游记》第一百零八回「凤祥馆内三人大鬧」这一篇章按照这种结构来展开。例如，唐僧师徒四人到达凤祥馆后，可以遇到一些阻碍和挑战，然后通过他们的智慧和勇敢来克服这些困难。\n",
       "5.  **内容深度**: 水滸传中的人物和事件都有深刻的内涵，你可以尝试在改写中给《西游记》第一百零八回「凤祥馆内三人大鬧」这一篇章增加更多的内容深度。例如，唐僧师徒四人的经历可以代表他们对真理和正义的追求，而凤花子的故事可以象征着善良和纯真的力量。\n",
       "\n",
       "**具体改写建议**\n",
       "\n",
       "1.  **开头**: 你可以尝试用更加生动的语言来描述唐僧师徒四人到达凤祥馆的情景。例如：“天长日久，唐僧师徒四人行程千里，如同一支旭日般照亮了遥远的天空，不得不稍作休息。在这座名叫凤祥馆的小镇，他们便寄住了三宿。”\n",
       "2.  **人物刻画**: 你可以尝试在改写中给唐僧师徒四人和其他角色赋予更强烈的个性和特点。例如：“唐僧师傅见到两个老头一身金甲铁铠时，脸上闪过了一丝惊讶，但随即恢复了平静的神色。他说：‘天哪，你们这是怎么回事儿呢？我不信世上还有这么坏的鸟人！’”\n",
       "3.  **情节发展**: 你可以尝试在改写中将《西游记》第一百零八回「凤祥馆内三人大鬧」这一篇章按照一个明确的起承转合结构来展开。例如：“这天夜里，凤祥馆的小子几个都出门来寻乐。想不到这一去没走多远就遇上一个老道士，一口气喝下半瓶白酒就昏倒在地。这可真是个奇事！于是，小贱货们便把他扛到凤祥馆里，告诉唐僧师傅说他们的好朋友在等着。”\n",
       "4.  **内容深度**: 你可以尝试在改写中给《西游记》第一百零八回「凤祥馆内三人大鬧」这一篇章增加更多的内容深度。例如：“这几个老贱货可真会来事儿，他们想把三个女子带走做干娘。但是，当他们见到两个老头一身金甲铁铠时，就都吓得六神无主跑路逃命去了。这才发现原来是凤祥馆的主人唐僧师傅等人！众多姑娘们见到四人赶了回来。”"
      ],
      "text/plain": [
       "<IPython.core.display.Markdown object>"
      ]
     },
     "metadata": {},
     "output_type": "display_data"
    }
   ],
   "source": [
    "from IPython.display import Markdown, display\n",
    "\n",
    "# 使用Markdown显示优化后的格式\n",
    "display(Markdown(reflection))"
   ]
  },
  {
   "cell_type": "code",
   "execution_count": 12,
   "id": "50ad3e02",
   "metadata": {},
   "outputs": [],
   "source": [
    "from typing import Annotated  # 用于类型注解\n",
    "from langgraph.graph import END, StateGraph, START  # 导入状态图的相关常量和类\n",
    "from langgraph.graph.message import add_messages  # 用于在状态中处理消息\n",
    "from langgraph.checkpoint.memory import MemorySaver  # 内存保存机制，用于保存检查点\n",
    "from typing_extensions import TypedDict  # 用于定义带有键值对的字典类型\n",
    "\n",
    "# 定义状态类，使用TypedDict以保存消息\n",
    "class State(TypedDict):\n",
    "    messages: Annotated[list, add_messages]  # 使用注解确保消息列表使用add_messages方法处理\n",
    "\n",
    "# 异步生成节点函数：生成内容（如作文）\n",
    "# 输入状态，输出包含新生成消息的状态\n",
    "async def generation_node(state: State) -> State:\n",
    "    # 调用生成器(writer)，并将消息存储到新的状态中返回\n",
    "    return {\"messages\": [await writer.ainvoke(state['messages'])]}\n",
    "\n",
    "# 异步反思节点函数：对生成的内容进行反思和反馈\n",
    "# 输入状态，输出带有反思反馈的状态\n",
    "async def reflection_node(state: State) -> State:\n",
    "    # 创建一个消息类型映射，ai消息映射为HumanMessage，human消息映射为AIMessage\n",
    "    cls_map = {\"ai\": HumanMessage, \"human\": AIMessage}\n",
    "    \n",
    "    # 处理消息，保持用户的原始请求（第一个消息），转换其余消息的类型\n",
    "    translated = [state['messages'][0]] + [\n",
    "        cls_map[msg.type](content=msg.content) for msg in state['messages'][1:]\n",
    "    ]\n",
    "    \n",
    "    # 调用反思器(reflect)，将转换后的消息传入，获取反思结果\n",
    "    res = await reflect.ainvoke(translated)\n",
    "    \n",
    "    # 返回新的状态，其中包含反思后的消息\n",
    "    return {\"messages\": [HumanMessage(content=res.content)]}\n"
   ]
  },
  {
   "cell_type": "code",
   "execution_count": 13,
   "id": "ef78c4fb-2db3-45c0-9784-b73de4e7ab7d",
   "metadata": {},
   "outputs": [],
   "source": [
    "MAX_ROUND = 4\n",
    "\n",
    "# 定义条件函数，决定是否继续反思过程\n",
    "# 如果消息数量超过6条，则终止流程\n",
    "def should_continue(state: State):\n",
    "    if len(state[\"messages\"]) > MAX_ROUND:\n",
    "        return END  # 达到条件时，流程结束\n",
    "    return \"reflect\"  # 否则继续进入反思节点"
   ]
  },
  {
   "cell_type": "code",
   "execution_count": 14,
   "id": "2e188e5e-2327-4c78-927e-5f778fdca91e",
   "metadata": {},
   "outputs": [],
   "source": [
    "# 创建状态图，传入初始状态结构\n",
    "builder = StateGraph(State)\n",
    "\n",
    "# 在状态图中添加\"writer\"节点，节点负责生成内容\n",
    "builder.add_node(\"writer\", generation_node)\n",
    "\n",
    "# 在状态图中添加\"reflect\"节点，节点负责生成反思反馈\n",
    "builder.add_node(\"reflect\", reflection_node)\n",
    "\n",
    "# 定义起始状态到\"writer\"节点的边，从起点开始调用生成器\n",
    "builder.add_edge(START, \"writer\")\n",
    "\n",
    "\n",
    "# 在\"writer\"节点和\"reflect\"节点之间添加条件边\n",
    "# 判断是否需要继续反思，或者结束\n",
    "builder.add_conditional_edges(\"writer\", should_continue)\n",
    "\n",
    "# 添加从\"reflect\"节点回到\"writer\"节点的边，进行反复的生成-反思循环\n",
    "builder.add_edge(\"reflect\", \"writer\")\n",
    "\n",
    "# 创建内存保存机制，允许在流程中保存中间状态和检查点\n",
    "memory = MemorySaver()\n",
    "\n",
    "# 编译状态图，使用检查点机制\n",
    "graph = builder.compile(checkpointer=memory)"
   ]
  },
  {
   "cell_type": "code",
   "execution_count": null,
   "id": "38ce358b-9b0d-4297-94e2-6ed8ab7e4dbb",
   "metadata": {},
   "outputs": [],
   "source": []
  },
  {
   "cell_type": "code",
   "execution_count": 15,
   "id": "b28225cf-55bc-4cc3-8fc7-45064d224782",
   "metadata": {},
   "outputs": [
    {
     "data": {
      "image/jpeg": "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",
      "text/plain": [
       "<IPython.core.display.Image object>"
      ]
     },
     "metadata": {},
     "output_type": "display_data"
    }
   ],
   "source": [
    "# 可视化图\n",
    "from IPython.display import Image, display\n",
    "\n",
    "try:\n",
    "    display(\n",
    "        Image(\n",
    "            graph.get_graph(xray=True).draw_mermaid_png()\n",
    "        )\n",
    "    )\n",
    "except Exception as e:\n",
    "    print(f\"Error generating graph: {e}\")"
   ]
  },
  {
   "cell_type": "code",
   "execution_count": 16,
   "id": "a16cf4e0-abc5-4956-990c-09f78254b227",
   "metadata": {},
   "outputs": [],
   "source": [
    "from IPython.display import Markdown, display\n",
    "\n",
    "# 定义装饰器，记录函数调用次数\n",
    "def track_steps(func):\n",
    "    step_counter = {'count': 0}  # 用于记录调用次数\n",
    "    \n",
    "    def wrapper(event, *args, **kwargs):\n",
    "        # 增加调用次数\n",
    "        step_counter['count'] += 1\n",
    "        # 在函数调用之前打印 step\n",
    "        display(Markdown(f\"## Round {step_counter['count']}\"))\n",
    "        # 调用原始函数\n",
    "        return func(event, *args, **kwargs)\n",
    "    \n",
    "    return wrapper\n",
    "\n",
    "# 使用装饰器装饰 pretty_print_event_markdown 函数\n",
    "@track_steps\n",
    "def pretty_print_event_markdown(event):\n",
    "    # 如果是生成写作部分\n",
    "    if 'writer' in event:\n",
    "        generate_md = \"#### 写作生成:\\n\"\n",
    "        for message in event['writer']['messages']:\n",
    "            generate_md += f\"- {message.content}\\n\"\n",
    "        display(Markdown(generate_md))\n",
    "    \n",
    "    # 如果是反思评论部分\n",
    "    if 'reflect' in event:\n",
    "        reflect_md = \"#### 评论反思:\\n\"\n",
    "        for message in event['reflect']['messages']:\n",
    "            reflect_md += f\"- {message.content}\\n\"\n",
    "        display(Markdown(reflect_md))"
   ]
  },
  {
   "cell_type": "code",
   "execution_count": null,
   "id": "64544540-9594-4812-a66a-c019284bdf2e",
   "metadata": {},
   "outputs": [],
   "source": []
  },
  {
   "cell_type": "code",
   "execution_count": 17,
   "id": "2954d151-db4c-46cf-97db-1ce5bf9fc7a2",
   "metadata": {},
   "outputs": [
    {
     "data": {
      "text/markdown": [
       "## Round 1"
      ],
      "text/plain": [
       "<IPython.core.display.Markdown object>"
      ]
     },
     "metadata": {},
     "output_type": "display_data"
    },
    {
     "data": {
      "text/markdown": [
       "#### 写作生成:\n",
       "- **学孙悟空，不只是要强壮**\n",
       "\n",
       "在经典名著《西游记》中，有一个不可或缺的角色——猪八戒的同伴孙悟空。虽然他身上长有犷牛角和七颗头发疤，但孙悟空的强大之处不仅限于肉体。\n",
       "\n",
       "要说他的身手，单是练就了九阳神功、十八般武艺，已经足以让人叹为观止。然而，更值得我们关注的是，他那顽强的意志和旷世智慧。\n",
       "\n",
       "孙悟空自幼在天竺寺学习法术，深造无数年的修行，让他变得精通五方神通，懂得运用金刚杵、铁钉等各类武器。这些都成就了他作为一名强大猴子的基础。然而，这些并不是最为重要的。\n",
       "\n",
       "更让我们赞叹孙悟空的地方在于，他能够轻松应对各种考验和挑战。在他面临各种危险时，都是毫不畏惧，自如应对，不但解决了各个难题，还帮助了师兄猪八戒脱困。\n",
       "\n",
       "他的精神境界，让我们有机会学习许多宝贵的经验。他能通过自身的努力，使自己成为一个真正的强者，并使朋友们得益无穷。所以，我们应该向孙悟空看齐，多学他的方法，也让自己的力量增强起来。\n",
       "\n",
       "**在自强不息的道路上**\n",
       "\n",
       "尽管我们每个人的经历、环境和人生都是不同的，但我们都可以学习到一些有价值的经验。这本来不是一种理所当然的事，我们的命运也许没有想象的那样美好，有些甚至可能比想象中的更加糟糕。然而，这时孙悟空的身姿就出现了。\n",
       "\n",
       "他身上那顽强不息的精神，不仅在于他超人的体力，也在于他那意志坚定、奋进无止境的心理品质。孙悟空从来不会被困难吓倒，而总是在对抗中锻炼自己，进而使自己更加的强大和完善。\n",
       "\n",
       "所以我们每个人，都应该多学习孙悟空的精神，如饥似渴般吸收其中，让自己的意志变得更加坚定和顽强。\n"
      ],
      "text/plain": [
       "<IPython.core.display.Markdown object>"
      ]
     },
     "metadata": {},
     "output_type": "display_data"
    },
    {
     "data": {
      "text/markdown": [
       "## Round 2"
      ],
      "text/plain": [
       "<IPython.core.display.Markdown object>"
      ]
     },
     "metadata": {},
     "output_type": "display_data"
    },
    {
     "data": {
      "text/markdown": [
       "#### 评论反思:\n",
       "- **总体评价**\n",
       "\n",
       "这篇文章以《西游记》中的孙悟空为榜样，劝勉年轻人多学习他的精神和方法。文章结构清晰，内容丰富，但仍存在一些改进的空间。\n",
       "\n",
       "**优点**\n",
       "\n",
       "1.  文章选取了一个有吸引力的主题，孙悟空的形象深入人心。\n",
       "2.  文中提到了孙悟空的多方面能力，如九阳神功、五方神通等，这让读者对他的强大之处有了更全面地了解。\n",
       "3.  文章强调了孙悟空顽强不息的精神和旷世智慧，让读者能够从他身上学习到宝贵的经验。\n",
       "\n",
       "**缺点**\n",
       "\n",
       "1.  文中有些句子过于简单，缺乏层次感。例如，“虽然他身上长有犷牛角和七颗头发疤，但孙悟空的强大之处不仅限于肉体。”这句话可以通过更详细的描述来让读者更加深入地了解孙悟空。\n",
       "2.  文章缺乏具体的例子或案例，来说明孙悟空如何在实际生活中运用他的能力和精神。这样做可以让读者更好地理解和记住这些经验。\n",
       "3.  文中有些地方重复了相同的观点，没有提供新的见解或深度分析。\n",
       "\n",
       "**建议**\n",
       "\n",
       "1.  在文章开头，添加一些引入性的描述，让读者对孙悟空有一个初步的了解。例如，可以描述他的外貌、性格等方面。\n",
       "2.  在第二段中，具体地描述孙悟空如何运用他的能力和精神来应对挑战，这可以让读者更好地理解他的强大之处。\n",
       "3.  在第三段中，提供一些具体的例子或案例，来说明孙悟空如何在实际生活中运用他的能力和精神。这可以让读者更好地理解和记住这些经验。\n",
       "4.  在结尾部分，可以总结一下孙悟空的精神和方法，并鼓励读者多学习他的经验。\n",
       "\n",
       "**具体修改建议**\n",
       "\n",
       "1.  第一段：添加一些引入性的描述，让读者对孙悟空有一个初步的了解。例如，“孙悟空是《西游记》中不可或缺的一个角色，他身上长有犷牛角和七颗头发疤，但他的强大之处不仅限于肉体。”\n",
       "2.  第二段：具体地描述孙悟空如何运用他的能力和精神来应对挑战。例如，“在他面临各种危险时，都是毫不畏惧，自如应对，不但解决了各个难题，还帮助了师兄猪八戒脱困。这让我们看到，他的能力和精神是多么强大。”\n",
       "3.  第三段：提供一些具体的例子或案例，来说明孙悟空如何在实际生活中运用他的能力和精神。例如，“有一次，他们遇到了一个巨大的怪物，孙悟空使用了九阳神功，轻松地打败了它。这让我们看到，他的能力是多么强大。”\n",
       "4.  结尾部分：总结一下孙悟空的精神和方法，并鼓励读者多学习他的经验。例如，“所以，我们每个人，都应该多学习孙悟空的精神，如饥似渴般吸收其中，让自己的意志变得更加坚定和顽强。”\n"
      ],
      "text/plain": [
       "<IPython.core.display.Markdown object>"
      ]
     },
     "metadata": {},
     "output_type": "display_data"
    },
    {
     "data": {
      "text/markdown": [
       "## Round 3"
      ],
      "text/plain": [
       "<IPython.core.display.Markdown object>"
      ]
     },
     "metadata": {},
     "output_type": "display_data"
    },
    {
     "data": {
      "text/markdown": [
       "#### 写作生成:\n",
       "- **文章修改**\n",
       "\n",
       "在上述的改进建议中，我将给出一个具体的修改方案。\n",
       "\n",
       "**引言**\n",
       "\n",
       "在《西游记》里，有一个让人赞叹的角色——孙悟空。他的身形高大，犷牛角长在额头上，七颗头发疤布满全身上。在很多年轻人眼中，孙悟空是一个具有着超凡魅力和能力的猴子。\n",
       "\n",
       "**身体和精神强大**\n",
       "\n",
       "虽然我们每个人都有自己的优点和缺点，但是孙悟空在这方面是完全不同于其他人的。他的力量如此之强，能够通过他自己修炼的九阳神功达到极大的威力。他也会使用各种五方神通来应对危险。还有，在《西游记》中提到的十八般武艺，他都是非常擅长的。\n",
       "\n",
       "**顽强不息和智慧**\n",
       "\n",
       "但是，最值得我们关注的是，孙悟空在每一次的挑战中，都表现出他的顽强不息和旷世智慧。无论是他面对各种艰难困苦还是帮助师兄猪八戒脱困，都能够毫不犹豫地去做。孙悟空深造多年的修炼，让他的能力迅速上升。\n",
       "\n",
       "**在实际生活中的运用**\n",
       "\n",
       "那么，我们每个人都应该像孙悟空一样去努力，让自己的精神和能力变得更加强大。虽然这不是一件简单的事情，但是只要你坚持不懈、顽强不息地前进，一切困难都能被消灭，胜利也会到来。\n",
       "\n",
       "**结论**\n",
       "\n",
       "孙悟空是一个非常值得我们学习的人物，他身上有着无数的优点和精神特质。每一个想要成为强大的年轻人，都应该多学习他的方法，这样才能更好地实现自己对未来生活的期望。\n",
       "\n",
       "在上述修改之后，文章内容更加丰富，每个部分都包含了孙悟空的不同方面，让读者有机会从他的身上看到各种各样的经验和教训。\n"
      ],
      "text/plain": [
       "<IPython.core.display.Markdown object>"
      ]
     },
     "metadata": {},
     "output_type": "display_data"
    },
    {
     "data": {
      "text/markdown": [
       "## Round 4"
      ],
      "text/plain": [
       "<IPython.core.display.Markdown object>"
      ]
     },
     "metadata": {},
     "output_type": "display_data"
    },
    {
     "data": {
      "text/markdown": [
       "#### 评论反思:\n",
       "- **总体评价**\n",
       "\n",
       "这篇文章经过修改后，结构更加清晰，内容更加丰富。每个部分都包含了孙悟空的不同方面，让读者有机会从他的身上看到各种各样的经验和教训。\n",
       "\n",
       "**优点**\n",
       "\n",
       "1.  文章选取了一个有吸引力的主题，孙悟空的形象深入人心。\n",
       "2.  文中提到了孙悟空的多方面能力，如九阳神功、五方神通等，这让读者对他的强大之处有了更全面地了解。\n",
       "3.  文章强调了孙悟空顽强不息的精神和旷世智慧，让读者能够从他身上学习到宝贵的经验。\n",
       "\n",
       "**缺点**\n",
       "\n",
       "1.  文中有些句子仍然过于简单，缺乏层次感。例如，“虽然我们每个人都有自己的优点和缺点，但是孙悟空在这方面是完全不同于其他人的。”\n",
       "2.  文章结尾部分，没有总结一下孙悟空的精神和方法，并鼓励读者多学习他的经验。\n",
       "\n",
       "**建议**\n",
       "\n",
       "1.  在第一段，添加一些引入性的描述，让读者对孙悟空有一个初步的了解。例如，“孙悟空是《西游记》中不可或缺的一个角色，他身上长有犷牛角和七颗头发疤，但他的强大之处不仅限于肉体。”\n",
       "2.  在结尾部分，总结一下孙悟空的精神和方法，并鼓励读者多学习他的经验。例如，“所以，我们每个人，都应该像孙悟空一样去努力，让自己的精神和能力变得更加强大。”\n"
      ],
      "text/plain": [
       "<IPython.core.display.Markdown object>"
      ]
     },
     "metadata": {},
     "output_type": "display_data"
    },
    {
     "data": {
      "text/markdown": [
       "## Round 5"
      ],
      "text/plain": [
       "<IPython.core.display.Markdown object>"
      ]
     },
     "metadata": {},
     "output_type": "display_data"
    },
    {
     "data": {
      "text/markdown": [
       "#### 写作生成:\n",
       "- **修改建议**\n",
       "\n",
       "根据您的反馈，我给出了一个具体的修改方案：\n",
       "\n",
       "**引言**\n",
       "\n",
       "在《西游记》里，有一个让人赞叹的角色——孙悟空。他的身形高大，犷牛角长在额头上，七颗头发疤布满全身上。在很多年轻人眼中，孙悟空是一个具有着超凡魅力和能力的猴子。孙悟空身上有很多值得我们学习的方面。他不仅仅是肉体上的强大，而更是一种精神上的力量。\n",
       "\n",
       "**身体和精神强大**\n",
       "\n",
       "他的九阳神功让他能够在修炼中快速提高自己的实力，他对各种五方神通也很熟悉。孙悟空还有很多其他方面的才能，能解决无数难题。当师兄猪八戒遇到困难时，孙悟空都会毫不犹豫地去帮助他。他的精神让我们看到，有时候，我们所需的是勇气和智慧，而不是力量。\n",
       "\n",
       "**顽强不息和智慧**\n",
       "\n",
       "在很多危险的情况下，他都能以最简单的方式来应对。比如当他们遇到一个巨大的怪物时，孙悟空就使用了九阳神功轻松地打败了它。他的顽强和智慧让我们可以看到，那些看似不可行的事情，并不一定是不可能的。所以，每个人都应该努力让自己的精神更加坚定。\n",
       "\n",
       "**结论**\n",
       "\n",
       "虽然我们每个人都会有自己的优点和缺点，但是孙悟空的身上却拥有着无数值得我们学习的方面。他不仅是一个身强力壮的人物，还是一个值得我们学习的人。每个想要成为强大的年轻人，都应该像孙悟空一样去努力，让自己的精神和能力变得更加强大。\n",
       "\n",
       "通过修改，您的问题都被解决了，每一部分内容都增加了对孙悟空的全面描述，对读者来说，更有助于了解他的丰富性以及他的人格特质。\n"
      ],
      "text/plain": [
       "<IPython.core.display.Markdown object>"
      ]
     },
     "metadata": {},
     "output_type": "display_data"
    }
   ],
   "source": [
    "inputs = {\n",
    "    \"messages\": [\n",
    "        HumanMessage(content=\"参考西游记的叙事文笔，写一篇奉劝年轻人多学习孙悟空的文章\")\n",
    "    ],\n",
    "}\n",
    "\n",
    "config = {\"configurable\": {\"thread_id\": \"1\"}}\n",
    "\n",
    "async for event in graph.astream(inputs, config):\n",
    "    pretty_print_event_markdown(event)\n"
   ]
  },
  {
   "cell_type": "code",
   "execution_count": null,
   "id": "41b9e339-eb87-4707-a019-8387faaa52bf",
   "metadata": {},
   "outputs": [],
   "source": []
  },
  {
   "cell_type": "code",
   "execution_count": null,
   "id": "44173cab-4e51-4bd7-8c97-a28748e159a4",
   "metadata": {},
   "outputs": [],
   "source": []
  },
  {
   "cell_type": "code",
   "execution_count": null,
   "id": "106f693e-441e-4536-8459-8042b34e4a2f",
   "metadata": {},
   "outputs": [],
   "source": []
  },
  {
   "cell_type": "code",
   "execution_count": 17,
   "id": "6092e5ee-7263-4f62-818a-0cc33ca0b42b",
   "metadata": {},
   "outputs": [],
   "source": [
    "# inputs = {\n",
    "#     \"messages\": [\n",
    "#         HumanMessage(content=\"参考西游记唐僧的说话风格，写一篇劝年轻人结婚买房的文章\")\n",
    "#     ],\n",
    "# }\n",
    "\n",
    "# config = {\"configurable\": {\"thread_id\": \"1\"}}\n",
    "\n",
    "# async for event in graph.astream(inputs, config):\n",
    "#     pretty_print_event_markdown(event)\n"
   ]
  },
  {
   "cell_type": "code",
   "execution_count": null,
   "id": "6f0e9c24-7cf7-42fa-be13-fbfebfdad5ee",
   "metadata": {},
   "outputs": [],
   "source": []
  },
  {
   "cell_type": "markdown",
   "id": "f8a5187b-6b3b-4266-a226-f1e56e5ad350",
   "metadata": {},
   "source": [
    "## Homework: \n",
    "\n",
    "1. 扩展本指南的 Reflection Agent，使其能够完成更通用的生成任务，包括但不限于代码、报告等；\n",
    "2. 使用扩展后的 Reflection Agent 生成代码，实现在 GitHubSentinel 上新增一个信息渠道。"
   ]
  },
  {
   "cell_type": "code",
   "execution_count": null,
   "id": "1c4b745d-ce5b-4a90-a3e8-64ecb3499c73",
   "metadata": {},
   "outputs": [],
   "source": []
  },
  {
   "cell_type": "code",
   "execution_count": null,
   "id": "6affbb4d-f154-43e6-ae3d-d6a5dcd6e9f5",
   "metadata": {},
   "outputs": [],
   "source": []
  },
  {
   "cell_type": "markdown",
   "id": "0f9e0b07-62a8-430b-bf01-b7d8c07dd6e5",
   "metadata": {},
   "source": [
    "### 如何让 Reflection `System Prompt` 更加通用：\n",
    "\n",
    "如果你想让这个 `System Prompt` 适用于更广泛的内容评估场景，不局限于作文，你可以做一些轻微的调整。例如：\n",
    "\n",
    "```python\n",
    "reflection_prompt = ChatPromptTemplate.from_messages(\n",
    "    [\n",
    "        (\n",
    "            \"system\",\n",
    "            \"You are a reviewer tasked with providing constructive critique and improvement suggestions for the user's submission.\"\n",
    "            \" Offer detailed feedback, including recommendations on clarity, structure, content depth, and style, as well as areas for improvement.\",\n",
    "        ),\n",
    "        MessagesPlaceholder(variable_name=\"messages\"),\n",
    "    ]\n",
    ")\n",
    "```\n",
    "\n",
    "### 修改后的变化：\n",
    "1. **角色定位更广泛**：从“老师”改为“审阅者”，这样不局限于评估作文，适用于各种类型的内容，包括文章、报告、甚至代码审查。\n",
    "  \n",
    "2. **批评与改进建议的灵活性**：从作文的“长度、深度、风格”拓展为“清晰度、结构、内容深度、风格”，这使得反馈更加多样化，适用于不同的内容类型。\n",
    "\n",
    "通过这种方式，可以让模型在更多场景下提供高质量的评估和反馈。"
   ]
  },
  {
   "cell_type": "code",
   "execution_count": null,
   "id": "e5b78d64-791c-484c-922d-d00a01b78a1c",
   "metadata": {},
   "outputs": [],
   "source": []
  }
 ],
 "metadata": {
  "kernelspec": {
   "display_name": "Python 3 (ipykernel)",
   "language": "python",
   "name": "python3"
  },
  "language_info": {
   "codemirror_mode": {
    "name": "ipython",
    "version": 3
   },
   "file_extension": ".py",
   "mimetype": "text/x-python",
   "name": "python",
   "nbconvert_exporter": "python",
   "pygments_lexer": "ipython3",
   "version": "3.11.9"
   "version": "3.11.9"
  }
 },
 "nbformat": 4,
 "nbformat_minor": 5
}
