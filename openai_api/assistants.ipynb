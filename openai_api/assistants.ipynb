{
 "cells": [
  {
   "cell_type": "markdown",
   "id": "4c87bc55-5547-4079-a6d8-41e8198d2356",
   "metadata": {},
   "source": [
    "# 快速入门 Assistants API \n",
    "\n",
    "Assistants API 允许您在自己的应用程序中构建人工智能助手。一个助手有其指令，并可以利用模型、工具和知识来回应用户查询。\n",
    "\n",
    "Assistants API 目前支持三种类型的工具：\n",
    "- 代码解释器 Code Interpreter\n",
    "- 检索 Retrieval\n",
    "- 函数调用 Function calling\n",
    "\n",
    "使用 [Playground](https://platform.openai.com/playground?mode=assistant) 可以在线探索和测试 Assistants API 功能。\n",
    "\n",
    "本入门指南将指导您完成创建和运行使用代码解释器的助手的关键步骤，以下是使用 Assistants API 标准流程：\n",
    "1. 通过定义其自定义指令并选择 LLM 来创建一个助手(Assistant)。如果有需求，可以添加文件并启用诸如代码解释器、检索和函数调用等工具。\n",
    "2. 当用户开始对话时，创建一个线程(Thread)。\n",
    "3. 当用户提问时，向线程添加消息(Messages)。\n",
    "4. 通过调用模型和工具在线程上运行助手以生成响应。\n",
    "\n",
    "![assistans](images/diagram-assistant.png)\n",
    "\n",
    "OBJECT | WHAT IT REPRESENTS\n",
    "--- | ---\n",
    "Assistant | 专为特定目的构建的人工智能，使用 OpenAI 的模型并调用工具\n",
    "Thread | 助手与用户之间的对话会话。线程存储消息，并自动处理截断，以将内容适应模型的上下文。\n",
    "Message | 由助手或用户创建的消息。消息可以包括文本、图片和其他文件。消息以列表形式存储在线程上。\n",
    "Run | 在线程上对一个助手的调用。助手利用其配置和线程的消息执行任务，通过调用模型和工具。作为运行的一部分，助手会将消息追加到线程中。\n",
    "Run Step | 助手在运行中采取的详细步骤列表。助手可以在其运行期间调用工具或创建消息。检查运行步骤可以让您深入了解助手如何得出最终结果。\n"
   ]
  },
  {
   "cell_type": "markdown",
   "id": "b7a8bbea-2f1f-45a4-b3e8-929614c66790",
   "metadata": {},
   "source": [
    "\n",
    "## 使用 Assistants 开发数学辅导老师\n",
    "\n",
    "在这个示例中，我们正在创建一个数学辅导助手，并启用了代码解释器工具。\n",
    "\n",
    "### 第一步：创建助手"
   ]
  },
  {
   "cell_type": "code",
   "execution_count": null,
   "id": "d2227bb3-179a-43c2-b389-60ecbd0dfce5",
   "metadata": {},
   "outputs": [],
   "source": [
    "! pip install -U openai"
   ]
  },
  {
   "cell_type": "code",
   "execution_count": 1,
   "id": "052b55e0-8170-41de-a721-0961606c793e",
   "metadata": {},
   "outputs": [],
   "source": [
    "import openai  # 导入 openai 库\n",
    "\n",
    "# 从环境变量 OPENAI_API_KEY 中获取 API 密钥\n",
    "client = openai.OpenAI()\n",
    "\n",
    "# 创建一个名为 \"Math Tutor\" 的助手，它是一个个人数学辅导老师。这个助手能够编写并运行代码来解答数学问题。\n",
    "assistant = client.beta.assistants.create(\n",
    "    name=\"Math Tutor\",\n",
    "    instructions=\"You are a personal math tutor. Write and run code to answer math questions.\",\n",
    "    tools=[{\"type\": \"code_interpreter\"}],  # 使用工具：代码解释器\n",
    "    model=\"gpt-4o\",  # 使用模型： GPT-4o\n",
    ")"
   ]
  },
  {
   "cell_type": "markdown",
   "id": "1106c286-aa3b-4076-9992-37b1a56743c6",
   "metadata": {},
   "source": [
    "### 第二步：创建线程\n",
    "\n",
    "一个线程代表用户和一个或多个助手之间的对话。"
   ]
  },
  {
   "cell_type": "code",
   "execution_count": 2,
   "id": "d1c7e57e-8e95-4411-ae53-0ae3ac004c62",
   "metadata": {},
   "outputs": [],
   "source": [
    "# 创建一个交流线程\n",
    "thread = client.beta.threads.create()"
   ]
  },
  {
   "cell_type": "markdown",
   "id": "5b958896-d802-445e-8098-0a443399cf43",
   "metadata": {},
   "source": [
    "### 第三步：往线程添加消息\n",
    "\n",
    "用户或APP创建的消息内容将作为消息对象（Message Object）添加到线程中。 \n",
    "\n",
    "消息可以包含文本和文件，向线程添加的消息数量没有限制 - OpenAI 会智能地截断任何不适合模型上下文窗口的内容。"
   ]
  },
  {
   "cell_type": "code",
   "execution_count": 3,
   "id": "f372ca8f-53be-4c3c-9e0a-c1b41b8955e7",
   "metadata": {},
   "outputs": [],
   "source": [
    "# 在该线程中创建一条用户消息，并提交一个数学问题：“我需要解方程 `3x + 11 = 14`。你能帮忙吗？”\n",
    "message = client.beta.threads.messages.create(\n",
    "    thread_id=thread.id,\n",
    "    role=\"user\",\n",
    "    content=\"I need to solve the equation `3x + 11 = 14`. Can you help me?\",\n",
    ")"
   ]
  },
  {
   "cell_type": "markdown",
   "id": "4c525954-63ef-44b1-94de-75a5b43568da",
   "metadata": {},
   "source": [
    "### 第四步：调用助手\n",
    "\n",
    "一旦所有用户消息都添加到了线程中，你可以使用任何助手运行该线程。\n",
    "\n",
    "创建一个运行会使用与助手相关的模型和工具来生成响应。这些响应将作为助手消息添加到线程中。"
   ]
  },
  {
   "cell_type": "code",
   "execution_count": 4,
   "id": "7a77c01e-7a68-41da-909b-d8e675a50d26",
   "metadata": {},
   "outputs": [
    {
     "name": "stdout",
     "output_type": "stream",
     "text": [
      "Run completed with status: completed\n",
      "\n",
      "Messages:\n",
      "\n",
      "Role: Assistant\n",
      "Message:\n",
      "Of course, Jane Doe! To solve the equation \\(3x + 11 = 14\\), we need to isolate \\(x\\). Here are the steps:\n",
      "\n",
      "1. Subtract 11 from both sides of the equation:\n",
      "\\[ 3x + 11 - 11 = 14 - 11 \\]\n",
      "\\[ 3x = 3 \\]\n",
      "\n",
      "2. Divide both sides by 3:\n",
      "\\[ \\frac{3x}{3} = \\frac{3}{3} \\]\n",
      "\\[ x = 1 \\]\n",
      "\n",
      "So, the solution to the equation \\(3x + 11 = 14\\) is \\(x = 1\\).\n",
      "\n",
      "Would you like me to verify this solution?\n",
      "\n",
      "Role: User\n",
      "Message:\n",
      "I need to solve the equation `3x + 11 = 14`. Can you help me?\n",
      "\n"
     ]
    }
   ],
   "source": [
    "# 创建并等待执行流完成，用于处理该线程中的交互和问题解答\n",
    "run = client.beta.threads.runs.create_and_poll(\n",
    "    thread_id=thread.id,\n",
    "    assistant_id=assistant.id,\n",
    "    instructions=\"Please address the user as Jane Doe. The user has a premium account.\",  # 以 Jane Doe 称呼用户，并且用户拥有高级账户\n",
    ")\n",
    "\n",
    "print(\"Run completed with status: \" + run.status)  # 打印执行流的完成状态\n",
    "\n",
    "# 如果执行流状态为 \"completed\"（已完成），则获取并打印所有消息\n",
    "if run.status == \"completed\":\n",
    "    messages = client.beta.threads.messages.list(thread_id=thread.id)\n",
    "\n",
    "    print(\"\\nMessages:\\n\")\n",
    "    for message in messages:\n",
    "        assert message.content[0].type == \"text\"\n",
    "        print(f\"Role: {message.role.capitalize()}\")  # 角色名称首字母大写\n",
    "        print(\"Message:\")\n",
    "        print(message.content[0].text.value + \"\\n\")  # 每条消息后添加空行以增加可读性"
   ]
  },
  {
   "cell_type": "markdown",
   "id": "ea5e1bca-3401-4db8-b3ae-b2797d11680b",
   "metadata": {},
   "source": [
    "### 通过 Assistant ID 删除指定助手"
   ]
  },
  {
   "cell_type": "code",
   "execution_count": 5,
   "id": "7535ee48-2107-465d-b5fa-b12356ba8b87",
   "metadata": {},
   "outputs": [
    {
     "data": {
      "text/plain": [
       "AssistantDeleted(id='asst_N4GlswRFWvHXoPffhbTLQYnh', deleted=True, object='assistant.deleted')"
      ]
     },
     "execution_count": 5,
     "metadata": {},
     "output_type": "execute_result"
    }
   ],
   "source": [
    "# 删除创建的助手\n",
    "client.beta.assistants.delete(assistant.id)"
   ]
  },
  {
   "cell_type": "code",
   "execution_count": null,
   "id": "025b777a-d279-4c62-8a50-7d24a1baaa5a",
   "metadata": {},
   "outputs": [],
   "source": []
  },
  {
   "cell_type": "markdown",
   "id": "929b787f-372b-4c35-9769-381d41c91042",
   "metadata": {},
   "source": [
    "### 使用流式输出实现数学辅导老师"
   ]
  },
  {
   "cell_type": "code",
   "execution_count": 6,
   "id": "b68ff9fa-e815-444b-b9e3-9dc062a0cc00",
   "metadata": {},
   "outputs": [
    {
     "name": "stdout",
     "output_type": "stream",
     "text": [
      "starting run stream\n",
      "\n",
      "assistant > code_interpreter\n",
      "\n",
      "import sympy as sp\n",
      "\n",
      "# Define the variable\n",
      "x = sp.symbols('x')\n",
      "\n",
      "# Define the equation\n",
      "equation = sp.Eq(3*x + 11, 14)\n",
      "\n",
      "# Solve the equation\n",
      "solution = sp.solve(equation, x)\n",
      "solution\n",
      "assistant > The solution to the equation \\( 3x + 11 = 14 \\) is \\( x = 1 \\)."
     ]
    },
    {
     "data": {
      "text/plain": [
       "AssistantDeleted(id='asst_m2l5WmP2WaBgZthhC2jW6Rps', deleted=True, object='assistant.deleted')"
      ]
     },
     "execution_count": 6,
     "metadata": {},
     "output_type": "execute_result"
    }
   ],
   "source": [
    "# 官方案例\n",
    "from typing_extensions import override\n",
    "from openai import AssistantEventHandler\n",
    "import openai\n",
    "\n",
    "# 从环境变量 OPENAI_API_KEY 中获取 API 密钥\n",
    "client = openai.OpenAI()\n",
    "\n",
    "# 创建一个名为 \"Math Tutor\" 的助手，它是一个个人数学辅导老师。这个助手能够编写并运行代码来解答数学问题。\n",
    "assistant = client.beta.assistants.create(\n",
    "    name=\"Math Tutor\",\n",
    "    instructions=\"You are a personal math tutor. Write and run code to answer math questions.\",\n",
    "    tools=[{\"type\": \"code_interpreter\"}],  # 工具包括代码解释器\n",
    "    model=\"gpt-4o-mini\",  # 使用的模型是 GPT-4\n",
    ")\n",
    "\n",
    "# 创建一个交流线程\n",
    "thread = client.beta.threads.create()\n",
    "\n",
    "# 在该线程中创建一条消息，表示用户角色，并提交一个数学问题：“我需要解方程 `3x + 11 = 14`。你能帮忙吗？”\n",
    "message = client.beta.threads.messages.create(\n",
    "    thread_id=thread.id,\n",
    "    role=\"user\",\n",
    "    content=\"I need to solve the equation `3x + 11 = 14`. Can you help me?\",\n",
    ")\n",
    "\n",
    "print(\"starting run stream\")  # 打印开始执行流的消息\n",
    "\n",
    "# First, we create a EventHandler class to define\n",
    "# how we want to handle the events in the response stream.\n",
    " \n",
    "class EventHandler(AssistantEventHandler):    \n",
    "  @override\n",
    "  def on_text_created(self, text) -> None:\n",
    "    print(f\"\\nassistant > \", end=\"\", flush=True)\n",
    "      \n",
    "  @override\n",
    "  def on_text_delta(self, delta, snapshot):\n",
    "    print(delta.value, end=\"\", flush=True)\n",
    "      \n",
    "  def on_tool_call_created(self, tool_call):\n",
    "    print(f\"\\nassistant > {tool_call.type}\\n\", flush=True)\n",
    "  \n",
    "  def on_tool_call_delta(self, delta, snapshot):\n",
    "    if delta.type == 'code_interpreter':\n",
    "      if delta.code_interpreter.input:\n",
    "        print(delta.code_interpreter.input, end=\"\", flush=True)\n",
    "      if delta.code_interpreter.outputs:\n",
    "        print(f\"\\n\\noutput >\", flush=True)\n",
    "        for output in delta.code_interpreter.outputs:\n",
    "          if output.type == \"logs\":\n",
    "            print(f\"\\n{output.logs}\", flush=True)\n",
    " \n",
    "# Then, we use the `stream` SDK helper \n",
    "# with the `EventHandler` class to create the Run \n",
    "# and stream the response.\n",
    " \n",
    "with client.beta.threads.runs.stream(\n",
    "  thread_id=thread.id,\n",
    "  assistant_id=assistant.id,\n",
    "  instructions=\"Please address the user as Jane Doe. The user has a premium account.\",\n",
    "  event_handler=EventHandler(),\n",
    ") as stream:\n",
    "  stream.until_done()\n",
    "\n",
    "\n",
    "# 删除创建的助手\n",
    "client.beta.assistants.delete(assistant.id)"
   ]
  },
  {
   "cell_type": "code",
   "execution_count": null,
   "id": "ff800570-5539-43a2-8c36-f6e7958c112a",
   "metadata": {},
   "outputs": [],
   "source": []
  },
  {
   "cell_type": "markdown",
   "id": "070e5f61-1931-46b6-a025-72da8116a125",
   "metadata": {},
   "source": [
    "## 开发 Python 代码小助手"
   ]
  },
  {
   "cell_type": "code",
   "execution_count": 7,
   "id": "e0604c6b-5227-454a-a036-3cbe8f071d7e",
   "metadata": {},
   "outputs": [],
   "source": [
    "import openai  # 导入 openai 库\n",
    "import time\n",
    "\n",
    "# 从环境变量 OPENAI_API_KEY 中获取 API 密钥\n",
    "client = openai.OpenAI()\n",
    "\n",
    "# 创建一个名为 \"Python Master\" 的助手，它能根据需求生成可以运行的 Python 代码\n",
    "assistant_python = client.beta.assistants.create(\n",
    "    name=\"Python Master\",\n",
    "    instructions=\"You are a Python Expert. Generate runnable Python code according to messages.\",\n",
    "    tools=[{\"type\": \"code_interpreter\"}],  # 使用工具：代码解释器\n",
    "    model=\"gpt-4o-mini\",  # 使用模型： GPT-4\n",
    ")\n",
    "\n",
    "# 创建一个交流线程\n",
    "thread_python = client.beta.threads.create()"
   ]
  },
  {
   "cell_type": "code",
   "execution_count": 9,
   "id": "ca4de29a-c87f-4f4a-9034-9aed4a82f641",
   "metadata": {},
   "outputs": [
    {
     "data": {
      "text/plain": [
       "'asst_efluGKh8WLe7ipLEChbHIf0K'"
      ]
     },
     "execution_count": 9,
     "metadata": {},
     "output_type": "execute_result"
    }
   ],
   "source": [
    "assistant_python.id"
   ]
  },
  {
   "cell_type": "code",
   "execution_count": 10,
   "id": "0ad0533f-519f-40a0-97ed-73b235f2c18a",
   "metadata": {},
   "outputs": [
    {
     "data": {
      "text/plain": [
       "'thread_wXeuAZQgd9rXKnDupXjrrdKx'"
      ]
     },
     "execution_count": 10,
     "metadata": {},
     "output_type": "execute_result"
    }
   ],
   "source": [
    "thread_python.id"
   ]
  },
  {
   "cell_type": "code",
   "execution_count": 11,
   "id": "610371e1-82bf-47e5-bbb4-63f3bec8e7f7",
   "metadata": {},
   "outputs": [],
   "source": [
    "# 在该线程中创建一条信息\n",
    "message = client.beta.threads.messages.create(\n",
    "    thread_id=thread_python.id,\n",
    "    role=\"user\",\n",
    "    content=\"快速排序咋个写？\",\n",
    ")"
   ]
  },
  {
   "cell_type": "code",
   "execution_count": 12,
   "id": "076da137-0c5e-4836-bb3e-663c81a2790e",
   "metadata": {},
   "outputs": [
    {
     "data": {
      "text/plain": [
       "'msg_S8EWF20GN4SJhEdgZiaAkXeE'"
      ]
     },
     "execution_count": 12,
     "metadata": {},
     "output_type": "execute_result"
    }
   ],
   "source": [
    "message.id"
   ]
  },
  {
   "cell_type": "code",
   "execution_count": 13,
   "id": "ae385730-7d50-45ca-af53-748cf641a1a7",
   "metadata": {},
   "outputs": [
    {
     "name": "stdout",
     "output_type": "stream",
     "text": [
      "Run completed with status: completed\n"
     ]
    }
   ],
   "source": [
    "# 创建并等待执行流完成，用于处理该线程中的交互和问题解答\n",
    "# 方式一：create_and_poll创建并轮询方式\n",
    "run = client.beta.threads.runs.create_and_poll(\n",
    "    thread_id=thread_python.id,\n",
    "    assistant_id=assistant_python.id,\n",
    ")\n",
    "\n",
    "print(\"Run completed with status: \" + run.status)  # 打印执行流的完成状态"
   ]
  },
  {
   "cell_type": "code",
   "execution_count": 14,
   "id": "a2bd2fdf-9adb-4bb9-8f34-00e360fbf787",
   "metadata": {},
   "outputs": [
    {
     "data": {
      "text/plain": [
       "'run_C5xEf8hHkQDAul3biQxMcsBz'"
      ]
     },
     "execution_count": 14,
     "metadata": {},
     "output_type": "execute_result"
    }
   ],
   "source": [
    "run.id"
   ]
  },
  {
   "cell_type": "code",
   "execution_count": 15,
   "id": "63c02863-5c7a-4582-969d-9a589a52d1e9",
   "metadata": {},
   "outputs": [
    {
     "name": "stdout",
     "output_type": "stream",
     "text": [
      "Run初始状态 queued\n"
     ]
    }
   ],
   "source": [
    "# 方式二：create 和 retrieve方式，判断run状态为（初始为queued）\n",
    "run2 = client.beta.threads.runs.create(\n",
    "    thread_id=thread_python.id,\n",
    "    assistant_id=assistant_python.id,\n",
    ")\n",
    "\n",
    "print(\"Run初始状态 \" + run2.status)  # 打印执行流的完成状态"
   ]
  },
  {
   "cell_type": "code",
   "execution_count": 16,
   "id": "ea30fc51-3251-48fe-ba2b-48c121b0f086",
   "metadata": {},
   "outputs": [
    {
     "data": {
      "text/plain": [
       "'run_KEGRNEPQzt6EM6vmRyrql68g'"
      ]
     },
     "execution_count": 16,
     "metadata": {},
     "output_type": "execute_result"
    }
   ],
   "source": [
    "run2.id"
   ]
  },
  {
   "cell_type": "code",
   "execution_count": 17,
   "id": "8745aff3-5e6c-43b3-9532-0ed47ed3d471",
   "metadata": {},
   "outputs": [
    {
     "name": "stdout",
     "output_type": "stream",
     "text": [
      "Run2 completed with status: completed\n"
     ]
    }
   ],
   "source": [
    "while run2.status == \"queued\" or run.status == \"in_progress\":\n",
    "    run2 = client.beta.threads.runs.retrieve(\n",
    "        thread_id=thread_python.id,\n",
    "        run_id=run2.id\n",
    "    )\n",
    "    time.sleep(1)\n",
    "print(\"Run2 completed with status: \" + run2.status)  # 打印执行流的完成状态"
   ]
  },
  {
   "cell_type": "code",
   "execution_count": 18,
   "id": "83469189-458d-4130-9e92-a814043ff813",
   "metadata": {},
   "outputs": [
    {
     "name": "stdout",
     "output_type": "stream",
     "text": [
      "\n",
      "Messages:\n",
      "\n",
      "Role: Assistant\n",
      "Message:\n",
      "经过快速排序，数组 `[7, 2, 1, 6, 8, 5, 3, 4]` 已成功排序为 `[1, 2, 3, 4, 5, 6, 7, 8]`。如果你有其他问题或需要进一步的帮助，请告诉我！\n",
      "\n",
      "Role: Assistant\n",
      "Message:\n",
      "快速排序是一种高效的排序算法，采用分治法（divide and conquer）策略来对数据进行排序。它的基本过程是：\n",
      "\n",
      "1. 从数组中选择一个元素作为\"枢轴\"（pivot）。\n",
      "2. 将数组分为两部分：一部分包含所有小于枢轴的元素，另一部分包含所有大于或等于枢轴的元素。\n",
      "3. 对这两部分递归地进行快速排序。\n",
      "4. 将所有部分合并成一个排序好的数组。\n",
      "\n",
      "下面是快速排序的 Python 实现：\n",
      "\n",
      "```python\n",
      "def quick_sort(arr):\n",
      "    if len(arr) <= 1:\n",
      "        return arr\n",
      "    pivot = arr[len(arr) // 2]  # 选择中间元素作为枢轴\n",
      "    left = [x for x in arr if x < pivot]   # 小于枢轴的元素\n",
      "    middle = [x for x in arr if x == pivot]  # 等于枢轴的元素\n",
      "    right = [x for x in arr if x > pivot]  # 大于枢轴的元素\n",
      "    return quick_sort(left) + middle + quick_sort(right)  # 递归排序并合并结果\n",
      "\n",
      "# 测试代码\n",
      "arr = [7, 2, 1, 6, 8, 5, 3, 4]\n",
      "sorted_arr = quick_sort(arr)\n",
      "print(sorted_arr)\n",
      "```\n",
      "\n",
      "你可以运行这段代码来查看快速排序的效果。\n",
      "\n",
      "Role: User\n",
      "Message:\n",
      "快速排序咋个写？\n",
      "\n"
     ]
    }
   ],
   "source": [
    "# 如果执行流状态为 \"completed\"（已完成），则获取并打印所有消息\n",
    "if run.status == \"completed\":\n",
    "    messages = client.beta.threads.messages.list(thread_id=thread_python.id)\n",
    "\n",
    "    print(\"\\nMessages:\\n\")\n",
    "    for message in messages:\n",
    "        assert message.content[0].type == \"text\"\n",
    "        print(f\"Role: {message.role.capitalize()}\")  # 角色名称首字母大写\n",
    "        print(\"Message:\")\n",
    "        print(message.content[0].text.value + \"\\n\")  # 每条消息后添加空行以增加可读性"
   ]
  },
  {
   "cell_type": "code",
   "execution_count": 19,
   "id": "f2b351d8-8af7-401d-936b-377acfad2b2e",
   "metadata": {},
   "outputs": [],
   "source": [
    "# 在该线程中创建一条信息\n",
    "message = client.beta.threads.messages.create(\n",
    "    thread_id=thread_python.id,\n",
    "    role=\"user\",\n",
    "    content=\"红黑树呢？\",\n",
    ")"
   ]
  },
  {
   "cell_type": "code",
   "execution_count": 20,
   "id": "a664dc7f-399c-4793-95a0-1bca7b37847c",
   "metadata": {},
   "outputs": [
    {
     "name": "stdout",
     "output_type": "stream",
     "text": [
      "Run completed with status: completed\n"
     ]
    }
   ],
   "source": [
    "# 创建并等待执行流完成，用于处理该线程中的交互和问题解答\n",
    "run = client.beta.threads.runs.create_and_poll(\n",
    "    thread_id=thread_python.id,\n",
    "    assistant_id=assistant_python.id,\n",
    ")\n",
    "\n",
    "print(\"Run completed with status: \" + run.status)  # 打印执行流的完成状态"
   ]
  },
  {
   "cell_type": "code",
   "execution_count": 21,
   "id": "4a76261f-aae9-499e-91d8-0ffc55de8bd3",
   "metadata": {},
   "outputs": [
    {
     "name": "stdout",
     "output_type": "stream",
     "text": [
      "\n",
      "Messages:\n",
      "\n",
      "Role: Assistant\n",
      "Message:\n",
      "红黑树是一种自平衡的二叉搜索树，每个节点都有一个颜色（红色或黑色），并且必须满足以下性质：\n",
      "\n",
      "1. 节点是红色或黑色。\n",
      "2. 根节点是黑色。\n",
      "3. 每个叶子节点（Nil或空节点）是黑色。\n",
      "4. 如果一个节点是红色，则它的两个子节点必须是黑色（即，红色节点不能连续出现）。\n",
      "5. 从任何节点到其每个叶子节点的路径都包含相同数量的黑色节点。\n",
      "\n",
      "红黑树的这些性质保证了树的高度在 \\(O(\\log n)\\)，从而确保了基本的操作（如插入、删除和查找）在对数时间内完成。\n",
      "\n",
      "下面是一个简单的红黑树的 Python 实现，只包括插入操作。为了简化代码，这个实现只展示如何维持红黑树的性质，而不涉及迭代器和删除操作。\n",
      "\n",
      "```python\n",
      "class Node:\n",
      "    def __init__(self, data, color='red'):\n",
      "        self.data = data\n",
      "        self.color = color\n",
      "        self.left = None\n",
      "        self.right = None\n",
      "        self.parent = None\n",
      "\n",
      "class RedBlackTree:\n",
      "    def __init__(self):\n",
      "        self.NIL_LEAF = Node(data=None, color='black')  # Nil叶节点\n",
      "        self.root = self.NIL_LEAF\n",
      "\n",
      "    def insert(self, data):\n",
      "        new_node = Node(data)\n",
      "        new_node.left = self.NIL_LEAF\n",
      "        new_node.right = self.NIL_LEAF\n",
      "        \n",
      "        # 插入步骤\n",
      "        parent = None\n",
      "        current = self.root\n",
      "        \n",
      "        while current != self.NIL_LEAF:\n",
      "            parent = current\n",
      "            if new_node.data < current.data:\n",
      "                current = current.left\n",
      "            else:\n",
      "                current = current.right\n",
      "                \n",
      "        new_node.parent = parent\n",
      "        \n",
      "        if parent is None:\n",
      "            self.root = new_node\n",
      "        elif new_node.data < parent.data:\n",
      "            parent.left = new_node\n",
      "        else:\n",
      "            parent.right = new_node\n",
      "            \n",
      "        new_node.color = 'red'  # 新节点是红色\n",
      "        self.fix_insert(new_node)\n",
      "\n",
      "    def fix_insert(self, k):\n",
      "        # 修复树的性质\n",
      "        while k.parent and k.parent.color == 'red':\n",
      "            if k.parent == k.parent.parent.left:\n",
      "                u = k.parent.parent.right  # 叔叔节点\n",
      "                if u.color == 'red':\n",
      "                    # 情况 1\n",
      "                    k.parent.color = 'black'\n",
      "                    u.color = 'black'\n",
      "                    k.parent.parent.color = 'red'\n",
      "                    k = k.parent.parent\n",
      "                else:\n",
      "                    if k == k.parent.right:\n",
      "                        # 情况 2\n",
      "                        k = k.parent\n",
      "                        self.left_rotate(k)\n",
      "                    # 情况 3\n",
      "                    k.parent.color = 'black'\n",
      "                    k.parent.parent.color = 'red'\n",
      "                    self.right_rotate(k.parent.parent)\n",
      "            else:\n",
      "                u = k.parent.parent.left\n",
      "                if u.color == 'red':\n",
      "                    # 情况 1\n",
      "                    k.parent.color = 'black'\n",
      "                    u.color = 'black'\n",
      "                    k.parent.parent.color = 'red'\n",
      "                    k = k.parent.parent\n",
      "                else:\n",
      "                    if k == k.parent.left:\n",
      "                        # 情况 2\n",
      "                        k = k.parent\n",
      "                        self.right_rotate(k)\n",
      "                    # 情况 3\n",
      "                    k.parent.color = 'black'\n",
      "                    k.parent.parent.color = 'red'\n",
      "                    self.left_rotate(k.parent.parent)\n",
      "        self.root.color = 'black'  # 确保根节点是黑色\n",
      "\n",
      "    def left_rotate(self, x):\n",
      "        y = x.right\n",
      "        x.right = y.left\n",
      "        if y.left != self.NIL_LEAF:\n",
      "            y.left.parent = x\n",
      "        y.parent = x.parent\n",
      "        if x.parent is None:\n",
      "            self.root = y\n",
      "        elif x == x.parent.left:\n",
      "            x.parent.left = y\n",
      "        else:\n",
      "            x.parent.right = y\n",
      "        y.left = x\n",
      "        x.parent = y\n",
      "         \n",
      "    def right_rotate(self, x):\n",
      "        y = x.left\n",
      "        x.left = y.right\n",
      "        if y.right != self.NIL_LEAF:\n",
      "            y.right.parent = x\n",
      "        y.parent = x.parent\n",
      "        if x.parent is None:\n",
      "            self.root = y\n",
      "        elif x == x.parent.right:\n",
      "            x.parent.right = y\n",
      "        else:\n",
      "            x.parent.left = y\n",
      "        y.right = x\n",
      "        x.parent = y\n",
      "\n",
      "# 测试红黑树插入\n",
      "rbt = RedBlackTree()\n",
      "for i in [20, 15, 25, 10, 5, 30]:\n",
      "    rbt.insert(i)\n",
      "```\n",
      "\n",
      "这个实现只包含插入的方法，并确保树的性质。完整实现包含删除和遍历树的方法，可以根据你的需要进一步扩展。如果你有任何问题或需要更多细节，请告诉我！\n",
      "\n",
      "Role: User\n",
      "Message:\n",
      "红黑树呢？\n",
      "\n",
      "Role: Assistant\n",
      "Message:\n",
      "经过快速排序，数组 `[7, 2, 1, 6, 8, 5, 3, 4]` 已成功排序为 `[1, 2, 3, 4, 5, 6, 7, 8]`。如果你有其他问题或需要进一步的帮助，请告诉我！\n",
      "\n",
      "Role: Assistant\n",
      "Message:\n",
      "快速排序是一种高效的排序算法，采用分治法（divide and conquer）策略来对数据进行排序。它的基本过程是：\n",
      "\n",
      "1. 从数组中选择一个元素作为\"枢轴\"（pivot）。\n",
      "2. 将数组分为两部分：一部分包含所有小于枢轴的元素，另一部分包含所有大于或等于枢轴的元素。\n",
      "3. 对这两部分递归地进行快速排序。\n",
      "4. 将所有部分合并成一个排序好的数组。\n",
      "\n",
      "下面是快速排序的 Python 实现：\n",
      "\n",
      "```python\n",
      "def quick_sort(arr):\n",
      "    if len(arr) <= 1:\n",
      "        return arr\n",
      "    pivot = arr[len(arr) // 2]  # 选择中间元素作为枢轴\n",
      "    left = [x for x in arr if x < pivot]   # 小于枢轴的元素\n",
      "    middle = [x for x in arr if x == pivot]  # 等于枢轴的元素\n",
      "    right = [x for x in arr if x > pivot]  # 大于枢轴的元素\n",
      "    return quick_sort(left) + middle + quick_sort(right)  # 递归排序并合并结果\n",
      "\n",
      "# 测试代码\n",
      "arr = [7, 2, 1, 6, 8, 5, 3, 4]\n",
      "sorted_arr = quick_sort(arr)\n",
      "print(sorted_arr)\n",
      "```\n",
      "\n",
      "你可以运行这段代码来查看快速排序的效果。\n",
      "\n",
      "Role: User\n",
      "Message:\n",
      "快速排序咋个写？\n",
      "\n"
     ]
    }
   ],
   "source": [
    "# 如果执行流状态为 \"completed\"（已完成），则获取并打印所有消息\n",
    "if run.status == \"completed\":\n",
    "    messages = client.beta.threads.messages.list(thread_id=thread_python.id)\n",
    "\n",
    "    print(\"\\nMessages:\\n\")\n",
    "    for message in messages:\n",
    "        assert message.content[0].type == \"text\"\n",
    "        print(f\"Role: {message.role.capitalize()}\")  # 角色名称首字母大写\n",
    "        print(\"Message:\")\n",
    "        print(message.content[0].text.value + \"\\n\")  # 每条消息后添加空行以增加可读性"
   ]
  },
  {
   "cell_type": "code",
   "execution_count": 22,
   "id": "76f126e2-64a2-4887-810c-b5059d5bcf56",
   "metadata": {},
   "outputs": [
    {
     "data": {
      "text/plain": [
       "AssistantDeleted(id='asst_efluGKh8WLe7ipLEChbHIf0K', deleted=True, object='assistant.deleted')"
      ]
     },
     "execution_count": 22,
     "metadata": {},
     "output_type": "execute_result"
    }
   ],
   "source": [
    "# 删除创建的助手\n",
    "client.beta.assistants.delete(assistant_python.id)"
   ]
  },
  {
   "cell_type": "code",
   "execution_count": null,
   "id": "788179ec-d10e-4cbd-b18b-1cf2b5fa02ee",
   "metadata": {},
   "outputs": [],
   "source": []
  },
  {
   "cell_type": "markdown",
   "id": "e49e1c65-626f-473c-80c9-2be33bc0a98f",
   "metadata": {},
   "source": [
    "## Homework: 将数学辅导老师和Python小助手的代码重构，实现类似 Playground 的对话输入体验"
   ]
  },
  {
   "cell_type": "code",
   "execution_count": null,
   "id": "541ad829-e6c7-4316-ab2f-03005610fc86",
   "metadata": {},
   "outputs": [],
   "source": []
  }
 ],
 "metadata": {
  "kernelspec": {
   "display_name": "Python 3 (ipykernel)",
   "language": "python",
   "name": "python3"
  },
  "language_info": {
   "codemirror_mode": {
    "name": "ipython",
    "version": 3
   },
   "file_extension": ".py",
   "mimetype": "text/x-python",
   "name": "python",
   "nbconvert_exporter": "python",
   "pygments_lexer": "ipython3",
   "version": "3.11.9"
  }
 },
 "nbformat": 4,
 "nbformat_minor": 5
}
