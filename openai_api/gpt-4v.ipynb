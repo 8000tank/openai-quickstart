{
 "cells": [
  {
   "cell_type": "markdown",
   "id": "b4b6a552-b7f0-433d-9a70-61c4fcc52d5d",
   "metadata": {},
   "source": [
    "# 快速入门 GPT-4 Vison\n",
    "\n",
    "从历史上看，语言模型系统仅接受**文本**作为输入。但是单一的输入形式，限制了大模型的应用落地范围。\n",
    "\n",
    "随着技术发展，OpenAI 开发的 GPT-4 Turbo with Vision（简称 GPT-4V）允许模型接收**图像**作为输入，并回答关于它们的问题。\n",
    "\n",
    "📢注意，目前在 Assistants API 中使用 GPT-4 时还不支持图像输入。"
   ]
  },
  {
   "cell_type": "markdown",
   "id": "3a701c56-0a2a-4dea-b458-234150b84ff2",
   "metadata": {},
   "source": [
    "## 使用 GPT-4V 识别线上图像（URL）\n",
    "\n",
    "![image_sample](https://upload.wikimedia.org/wikipedia/commons/thumb/d/dd/Gfp-wisconsin-madison-the-nature-boardwalk.jpg/2560px-Gfp-wisconsin-madison-the-nature-boardwalk.jpg)"
   ]
  },
  {
   "cell_type": "code",
   "execution_count": 1,
   "id": "bf8689b2-94f2-4a35-a332-9ffed0a56aca",
   "metadata": {},
   "outputs": [
    {
     "name": "stdout",
     "output_type": "stream",
     "text": [
      "[Choice(finish_reason='stop', index=0, logprobs=None, message=ChatCompletionMessage(content='这幅图描绘了一片宁静而开阔的自然景观。中间有一条木栈道向前延伸，两侧是郁郁葱葱的草地和灌木。背景是蓝天，点缀着几朵白云，阳光洒落在草地上，营造出温暖而舒适的氛围。整体感觉宁静、自然，适合散步和享受大自然的美景。', role='assistant', function_call=None, tool_calls=None, refusal=None))]\n"
     ]
    }
   ],
   "source": [
    "from openai import OpenAI\n",
    "\n",
    "client = OpenAI()\n",
    "\n",
    "response = client.chat.completions.create(\n",
    "  model=\"gpt-4o-mini\",\n",
    "  messages=[\n",
    "    {\n",
    "      \"role\": \"user\",\n",
    "      \"content\": [\n",
    "        {\"type\": \"text\", \"text\": \"介绍下这幅图?\"},\n",
    "        {\n",
    "          \"type\": \"image_url\",\n",
    "          \"image_url\": {\n",
    "            \"url\": \"https://upload.wikimedia.org/wikipedia/commons/thumb/d/dd/Gfp-wisconsin-madison-the-nature-boardwalk.jpg/2560px-Gfp-wisconsin-madison-the-nature-boardwalk.jpg\",\n",
    "          },\n",
    "        },\n",
    "      ],\n",
    "    }\n",
    "  ],\n",
    "  max_tokens=300,\n",
    ")\n",
    "\n",
    "print(response.choices)"
   ]
  },
  {
   "cell_type": "code",
   "execution_count": 2,
   "id": "9bcc9026-7485-428f-8269-ea9ae41405cb",
   "metadata": {},
   "outputs": [
    {
     "data": {
      "text/plain": [
       "'这幅图描绘了一片宁静而开阔的自然景观。中间有一条木栈道向前延伸，两侧是郁郁葱葱的草地和灌木。背景是蓝天，点缀着几朵白云，阳光洒落在草地上，营造出温暖而舒适的氛围。整体感觉宁静、自然，适合散步和享受大自然的美景。'"
      ]
     },
     "execution_count": 2,
     "metadata": {},
     "output_type": "execute_result"
    }
   ],
   "source": [
    "response.choices[0].message.content"
   ]
  },
  {
   "cell_type": "markdown",
   "id": "7fb50a14-fa14-4c63-9f81-b98b0f65d9d9",
   "metadata": {},
   "source": [
    "### 封装成一个函数 query_image_description"
   ]
  },
  {
   "cell_type": "code",
   "execution_count": 3,
   "id": "c1ca5428-c7e1-4d7e-91f1-d4a05e95ac51",
   "metadata": {},
   "outputs": [],
   "source": [
    "def query_image_description(url, prompt=\"介绍下这幅图?\"):\n",
    "    client = OpenAI()  # 初始化 OpenAI 客户端\n",
    "    \n",
    "    # 发送请求给 OpenAI 的聊天模型\n",
    "    response = client.chat.completions.create(\n",
    "        model=\"gpt-4o-mini\",  # 指定使用的模型\n",
    "        messages=[\n",
    "            {\n",
    "                \"role\": \"user\",\n",
    "                \"content\": [\n",
    "                    {\"type\": \"text\", \"text\": prompt},\n",
    "                    {\"type\": \"image_url\", \"image_url\": {\"url\": url}},\n",
    "                ],\n",
    "            }\n",
    "        ],\n",
    "        max_tokens=300,\n",
    "    )\n",
    "    \n",
    "    # 返回模型的响应\n",
    "    return response.choices[0].message.content\n"
   ]
  },
  {
   "cell_type": "markdown",
   "id": "a0d0aceb-7cc5-4da1-b6db-e47716ba145a",
   "metadata": {},
   "source": [
    "### 调用函数测试\n",
    "\n",
    "![meme_0](https://p6.itc.cn/q_70/images03/20200602/0c267a0d3d814c9783659eb956969ba1.jpeg)"
   ]
  },
  {
   "cell_type": "code",
   "execution_count": 4,
   "id": "454abb5c-49d3-42e6-867e-f44e25af5e0e",
   "metadata": {},
   "outputs": [
    {
     "name": "stdout",
     "output_type": "stream",
     "text": [
      "这幅图展示了两个对比的形象，一边是“16岁的我”，一边是“工作后的我”。左边的形象是一只肌肉发达的狗（通常被称为柴犬），配文表达了年轻时的自信和对未来的美好期待。右边的形象是同样的狗，但看起来更加疲惫，配文则反映了工作后的压力和生活的沮丧感。\n",
      "\n",
      "整体上，这幅图通过夸张的对比，形象地表现了从年轻充满活力到成年后面临压力与普通生活的转变，引发观者对成长和生活挑战的共鸣。\n"
     ]
    }
   ],
   "source": [
    "image_url = \"https://p6.itc.cn/q_70/images03/20200602/0c267a0d3d814c9783659eb956969ba1.jpeg\"\n",
    "content = query_image_description(image_url)\n",
    "print(content)"
   ]
  },
  {
   "cell_type": "code",
   "execution_count": null,
   "id": "2471306a-84e2-4793-b065-0741fbe57262",
   "metadata": {},
   "outputs": [],
   "source": []
  },
  {
   "cell_type": "code",
   "execution_count": null,
   "id": "af79850f-83b5-49c4-a3f3-f2c01a28f458",
   "metadata": {},
   "outputs": [],
   "source": []
  },
  {
   "cell_type": "markdown",
   "id": "63ae05bd-872c-4638-8259-df4f420aaa1d",
   "metadata": {},
   "source": [
    "### 使用 GPT-4V 识别本地图像文件（Base64编码）\n"
   ]
  },
  {
   "cell_type": "code",
   "execution_count": 5,
   "id": "1e83da68-d387-46da-8236-78fc607d1fab",
   "metadata": {},
   "outputs": [],
   "source": [
    "from openai import OpenAI\n",
    "import base64\n",
    "import requests\n",
    "import json\n",
    "\n",
    "client = OpenAI()  # 初始化 OpenAI 客户端\n",
    "\n",
    "def query_base64_image_description(image_path, prompt=\"解释下图里的内容？\", max_tokens=1000):\n",
    "\n",
    "    # 实现 Base64 编码\n",
    "    def encode_image(path):\n",
    "        with open(path, \"rb\") as image_file:\n",
    "            return base64.b64encode(image_file.read()).decode('utf-8')\n",
    "\n",
    "    # 获取图像的 Base64 编码字符串\n",
    "    base64_image = encode_image(image_path)\n",
    "\n",
    "    # 构造请求的 HTTP Header\n",
    "    headers = {\n",
    "        \"Content-Type\": \"application/json\",\n",
    "        \"Authorization\": f\"Bearer {client.api_key}\"\n",
    "    }\n",
    "\n",
    "    # 构造请求的负载\n",
    "    payload = {\n",
    "        \"model\": \"gpt-4o-mini\",\n",
    "        \"messages\": [\n",
    "            {\n",
    "                \"role\": \"user\",\n",
    "                \"content\": [\n",
    "                    {\"type\": \"text\", \"text\": prompt},\n",
    "                    {\"type\": \"image_url\", \"image_url\": {\"url\": f\"data:image/jpeg;base64,{base64_image}\"}}\n",
    "                ]\n",
    "            }\n",
    "        ],\n",
    "        \"max_tokens\": max_tokens\n",
    "    }\n",
    "\n",
    "    # 发送 HTTP 请求\n",
    "    response = requests.post(\"https://api.openai.com/v1/chat/completions\", headers=headers, json=payload)\n",
    "\n",
    "    # 检查响应并提取所需的 content 字段\n",
    "    if response.status_code == 200:\n",
    "        response_data = response.json()\n",
    "        content = response_data['choices'][0]['message']['content']\n",
    "        return content\n",
    "    else:\n",
    "        return f\"Error: {response.status_code}, {response.text}\""
   ]
  },
  {
   "cell_type": "markdown",
   "id": "89dd0f99-8086-473f-80a4-497e6dd07c17",
   "metadata": {},
   "source": [
    "#### 使用 Assistants API生成的 GDP 40年对比曲线图\n",
    "\n",
    "![gdp_data](./images/gdp_1980_2020.jpg)"
   ]
  },
  {
   "cell_type": "code",
   "execution_count": 6,
   "id": "3c0e9063-e8d9-4bc1-ae60-ad0aa5bee32b",
   "metadata": {},
   "outputs": [
    {
     "name": "stdout",
     "output_type": "stream",
     "text": [
      "这张图展示了1980年至2020年间四个国家的GDP比较，包括美国、中国、日本和德国。以下是主要内容：\n",
      "\n",
      "1. **横轴**表示年份，从1980年到2020年。\n",
      "2. **纵轴**表示GDP，以万亿美元为单位。\n",
      "3. **不同颜色的线条**代表不同国家：\n",
      "   - **蓝色**：美国（USA）\n",
      "   - **红色**：中国（China）\n",
      "   - **紫色**：日本（Japan）\n",
      "   - **绿色**：德国（Germany）\n",
      "\n",
      "### 观察点：\n",
      "- **美国的GDP**在整个时间段内保持领先，且呈现出稳定的增长趋势。\n",
      "- **中国的GDP**自1980年以来增长显著，尤其是2000年后，大幅度上升，逐渐缩小与美国的差距。\n",
      "- **日本的GDP**在1990年代初期达到峰值后，增长缓慢，显示出经济停滞的状态。\n",
      "- **德国的GDP**在1990年代后逐渐增长，但总体增速不如中国。\n",
      "\n",
      "总体来看，这张图清晰展示了全球经济格局的变化，尤其是中国在过去几十年间的快速崛起。\n"
     ]
    }
   ],
   "source": [
    "content = query_base64_image_description(\"./images/gdp_1980_2020.jpg\")\n",
    "print(content)"
   ]
  },
  {
   "cell_type": "markdown",
   "id": "6d18b227-32a6-4450-86bd-c99ad5c533b9",
   "metadata": {},
   "source": [
    "#### 使用 GPT-4V 识别手写体笔记\n",
    "\n",
    "![](./images/handwriting_0.jpg)"
   ]
  },
  {
   "cell_type": "code",
   "execution_count": 13,
   "id": "4193fa11-5edd-404c-9472-0cb8cc6799fc",
   "metadata": {},
   "outputs": [
    {
     "data": {
      "text/markdown": [
       "这张图的内容是关于“参数高效微调”（PEFT）的一些主要概念，特别是关于几种微调技术的具体公式和说明。以下是主要内容的解释：\n",
       "\n",
       "1. **Prompt Tuning**:\n",
       "   - 通过使用一个小模型和嵌入（Embedding）层来对输入数据进行处理。\n",
       "   - 公式表示了如何利用输入的序列 \\(X\\) 来生成变换后的序列 \\(X'\\)，最后利用权重 \\(W\\) 计算输出 \\(Y\\)。\n",
       "\n",
       "2. **Prefix Tuning**:\n",
       "   - 这里使用了一个权重矩阵 \\(W\\)，结合输入的特征进行编码和解码。\n",
       "   - 提供了如何构建特定模型的概念，类似于如何使用 Transformer 模型进行微调。\n",
       "\n",
       "3. **LoRA（低秩适配）**:\n",
       "   - 该部分探讨了通过低秩矩阵调整模型参数的方法。\n",
       "   - 提供了如何将新的权重 \\(\\Delta W\\) 引入原始权重 \\(W\\) 中，以达到更有效的模型训练。\n",
       "\n",
       "4. **QLoRA（量化低秩适配）**:\n",
       "   - 这是对 LoRA 方法的一种变体，涉及模型的量化。\n",
       "   - 可能列出了两个不同版本的模型与其所需的存储空间要求。\n",
       "\n",
       "整体来看，该笔记主要记录了在机器学习和深度学习领域中，针对模型微调的一些重要方法和公式。"
      ],
      "text/plain": [
       "<IPython.core.display.Markdown object>"
      ]
     },
     "metadata": {},
     "output_type": "display_data"
    },
    {
     "name": "stdout",
     "output_type": "stream",
     "text": [
      "None\n"
     ]
    }
   ],
   "source": [
    "content = query_base64_image_description_v2(\"./images/handwriting_0.jpg\")\n",
    "print(content)"
   ]
  },
  {
   "cell_type": "markdown",
   "id": "ca046601-018c-455c-ace2-41392cbda456",
   "metadata": {},
   "source": [
    "#### 在 Jupyter 标准输出中渲染 Markdown 格式内容"
   ]
  },
  {
   "cell_type": "code",
   "execution_count": 8,
   "id": "516ee35b-1337-4b22-aea2-ee0adb706098",
   "metadata": {},
   "outputs": [
    {
     "data": {
      "text/markdown": [
       "这张笔记中的内容涉及到微调（Tuning）和参数高效微调的方法，具体包括以下几个部分：\n",
       "\n",
       "1. **Prompt Tuning**：\n",
       "   - 讨论了使用固定模型大小和少量参数进行的嵌入（Embedding）处理。\n",
       "   - 公式中，\\(X\\) 表示输入数据，\\(W\\) 是权重矩阵，\\(Y\\) 是输出。\n",
       "\n",
       "2. **Prefix Tuning**：\n",
       "   - 介绍了如何通过权重结合（使用 \\(W\\) 和小的 \\(W_p\\)）来增强模型性能。\n",
       "   - 公式表达了与Transformer编码器/解码器的关系。\n",
       "\n",
       "3. **LoRA（低秩适应）**：\n",
       "   - 提出了用低秩方法来调整模型，使其在处理输入 \\(X\\) 时，能够更高效地利用参数。\n",
       "   - 公式展示了 \\(Y\\) 的计算方法以及如何通过引入额外的参数\\(\\Delta W\\)来实现调整。\n",
       "\n",
       "4. **QLoRA**：\n",
       "   - 讨论了QLoRA方法的应用和不同版本模型的大小比较。\n",
       "\n",
       "整体来看，这些内容主要围绕如何优化机器学习模型的参数，通过不同的微调策略来提高模型在特定任务中的表现。"
      ],
      "text/plain": [
       "<IPython.core.display.Markdown object>"
      ]
     },
     "metadata": {},
     "output_type": "display_data"
    }
   ],
   "source": [
    "from IPython.display import display, Markdown\n",
    "\n",
    "# 使用 display 和 Markdown 函数显示 Markdown 内容\n",
    "display(Markdown(content))"
   ]
  },
  {
   "cell_type": "markdown",
   "id": "b72ebbe3-87cc-4867-9cf0-62e5ed684482",
   "metadata": {},
   "source": [
    "![](./images/handwriting_1.jpg)"
   ]
  },
  {
   "cell_type": "code",
   "execution_count": 9,
   "id": "7c046958-aa7a-4066-88fa-4134869d9226",
   "metadata": {},
   "outputs": [
    {
     "data": {
      "text/markdown": [
       "这张图是一篇关于多模态指令微调（Instruction Fine-tuning）和模型调整（Model Tuning）方法的笔记。具体内容包括：\n",
       "\n",
       "1. **I-F Transformers**：提到了一些基于变换器的模型和基准测试（Benchmark）。\n",
       "\n",
       "2. **PEFT（Parameter Efficient Fine Tuning）**：列出了当前的最佳实践（SOTA）和方法，包括各种提示调整（Prompt Tuning）技术，如 Adapter、Prefix Tuning 和 P-Tuning。\n",
       "\n",
       "3. **Prompt Tuning**：详细说明了不同年份的提示调整方法，以及它们的来源和应用。\n",
       "\n",
       "4. **多模态和LLMs**：提到了一些新的方法，如 LLava 和 LoRA（Low-Rank Adaptation），以及与 PETC 相关的内容。\n",
       "\n",
       "5. **Adapters 和 Prefix Tuning**：涉及如何通过调整不同类型的适配器和前缀来增强模型性能。\n",
       "\n",
       "6. **最后一部分**：提到了一些具体的研究成果和方法，涉及不同的适配器类型和提示策略的比较及其效果。\n",
       "\n",
       "整体来看，这是一份关于深度学习模型微调和优化方法的综述，特别关注如何提高模型的效率和性能。"
      ],
      "text/plain": [
       "<IPython.core.display.Markdown object>"
      ]
     },
     "metadata": {},
     "output_type": "display_data"
    }
   ],
   "source": [
    "content = query_base64_image_description(\"./images/handwriting_1.jpg\")\n",
    "display(Markdown(content))"
   ]
  },
  {
   "cell_type": "code",
   "execution_count": null,
   "id": "156a0f17-cca8-4f01-9ce5-53384b5ffda4",
   "metadata": {},
   "outputs": [],
   "source": []
  },
  {
   "cell_type": "code",
   "execution_count": null,
   "id": "e3bd772f-9492-4f6c-b05a-666b772ca3c9",
   "metadata": {},
   "outputs": [],
   "source": []
  },
  {
   "cell_type": "code",
   "execution_count": null,
   "id": "8afdeacb-aac1-4692-be2b-fb7957ba5e8f",
   "metadata": {},
   "outputs": [],
   "source": []
  },
  {
   "cell_type": "markdown",
   "id": "79a8d459-d98e-4215-9fbf-38ad37080475",
   "metadata": {},
   "source": [
    "## Homework: \n",
    "\n",
    "\n",
    "### #1\n",
    "\n",
    "使用 GPT-4V 识别带有手写体文字的本地图像文件，分享结果。\n",
    "\n",
    "### #2\n",
    "\n",
    "整合 `query_base64_image_description` 函数和 Markdown 格式渲染方法，使得输出结果更易阅读。"
   ]
  },
  {
   "cell_type": "code",
   "execution_count": null,
   "id": "0909bf27-9c4a-498c-9fae-0f442062b9a8",
   "metadata": {},
   "outputs": [],
   "source": []
  },
  {
   "cell_type": "code",
   "execution_count": 12,
   "id": "281fab29",
   "metadata": {},
   "outputs": [],
   "source": [
    "# 作业2\n",
    "from openai import OpenAI\n",
    "import base64\n",
    "import requests\n",
    "from IPython.display import display, Markdown\n",
    "\n",
    "client = OpenAI()  # 初始化 OpenAI 客户端\n",
    "\n",
    "\n",
    "def query_base64_image_description_v2(image_path, prompt=\"解释下图里的内容？\", max_tokens=1000):\n",
    "\n",
    "    # 实现 Base64 编码\n",
    "    def encode_image(path):\n",
    "        with open(path, \"rb\") as image_file:\n",
    "            return base64.b64encode(image_file.read()).decode('utf-8')\n",
    "\n",
    "    # 获取图像的 Base64 编码字符串\n",
    "    base64_image = encode_image(image_path)\n",
    "\n",
    "    # 构造请求的 HTTP Header\n",
    "    headers = {\n",
    "        \"Content-Type\": \"application/json\",\n",
    "        \"Authorization\": f\"Bearer {client.api_key}\"\n",
    "    }\n",
    "\n",
    "    # 构造请求的负载\n",
    "    payload = {\n",
    "        \"model\": \"gpt-4o-mini\",\n",
    "        \"messages\": [\n",
    "            {\n",
    "                \"role\": \"user\",\n",
    "                \"content\": [\n",
    "                    {\"type\": \"text\", \"text\": prompt},\n",
    "                    {\"type\": \"image_url\", \"image_url\": {\"url\": f\"data:image/jpeg;base64,{base64_image}\"}}\n",
    "                ]\n",
    "            }\n",
    "        ],\n",
    "        \"max_tokens\": max_tokens\n",
    "    }\n",
    "\n",
    "    # 发送 HTTP 请求\n",
    "    response = requests.post(\"https://api.openai.com/v1/chat/completions\", headers=headers, json=payload)\n",
    "\n",
    "    # 检查响应并提取所需的 content 字段\n",
    "    if response.status_code == 200:\n",
    "        response_data = response.json()\n",
    "        content = response_data['choices'][0]['message']['content']\n",
    "        return display(Markdown(content))\n",
    "    else:\n",
    "        return f\"Error: {response.status_code}, {response.text}\""
   ]
  }
 ],
 "metadata": {
  "kernelspec": {
   "display_name": "Python 3 (ipykernel)",
   "language": "python",
   "name": "python3"
  },
  "language_info": {
   "codemirror_mode": {
    "name": "ipython",
    "version": 3
   },
   "file_extension": ".py",
   "mimetype": "text/x-python",
   "name": "python",
   "nbconvert_exporter": "python",
   "pygments_lexer": "ipython3",
   "version": "3.11.9"
  }
 },
 "nbformat": 4,
 "nbformat_minor": 5
}
